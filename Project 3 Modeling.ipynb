{
 "cells": [
  {
   "cell_type": "markdown",
   "metadata": {
    "focus": false,
    "id": "69b9a648-bcc7-490d-9f9b-ea244d156bd6"
   },
   "source": [
    "# Using Reddit's API for Classifying Subreddit Posts"
   ]
  },
  {
   "cell_type": "markdown",
   "metadata": {},
   "source": [
    "This notebook regards the classification of geocaching and IWantToLearn subreddit posts from Reddit using Natural Language Processing techniques. For the workflow of obtaining the posts using webscraping techniques, please refer to the Jupyter Notebook \"Project 3 Webscraping.ipynb\". This project was segmented into two to prevent from re-running webscraping code.\n",
    "\n",
    "\n",
    "\n",
    "Problem statement: What characteristics of a post on Reddit contribute most to what subreddit it belongs to?"
   ]
  },
  {
   "cell_type": "markdown",
   "metadata": {},
   "source": [
    "### Library Imports"
   ]
  },
  {
   "cell_type": "code",
   "execution_count": 1,
   "metadata": {},
   "outputs": [],
   "source": [
    "# Data cleaning/handling\n",
    "import pandas as pd\n",
    "import numpy as np\n",
    "import seaborn as sns\n",
    "import matplotlib.pyplot as plt\n",
    "%matplotlib inline\n",
    "\n",
    "# NLP specific libraries\n",
    "from nltk.corpus import stopwords\n",
    "from nltk.stem import WordNetLemmatizer\n",
    "from sklearn.feature_extraction import stop_words\n",
    "import re\n",
    "from string import punctuation\n",
    "from sklearn.feature_extraction.text import CountVectorizer, TfidfVectorizer\n",
    "\n",
    "# Modeling Libraries\n",
    "from sklearn.model_selection import train_test_split, GridSearchCV\n",
    "from sklearn.pipeline import Pipeline, make_pipeline\n",
    "from sklearn.naive_bayes import MultinomialNB\n",
    "from sklearn.linear_model import LogisticRegression\n",
    "from sklearn.ensemble import RandomForestClassifier\n",
    "from sklearn.metrics import classification_report, confusion_matrix, auc, roc_curve"
   ]
  },
  {
   "cell_type": "markdown",
   "metadata": {},
   "source": [
    "### Bring in Dataset of Posts scraped from Reddit"
   ]
  },
  {
   "cell_type": "code",
   "execution_count": 2,
   "metadata": {},
   "outputs": [],
   "source": [
    "df = pd.read_csv('./reddit_posts.csv')"
   ]
  },
  {
   "cell_type": "code",
   "execution_count": 27,
   "metadata": {},
   "outputs": [
    {
     "data": {
      "text/plain": [
       "geocaching      1000\n",
       "IWantToLearn    1000\n",
       "Name: subreddit, dtype: int64"
      ]
     },
     "execution_count": 27,
     "metadata": {},
     "output_type": "execute_result"
    }
   ],
   "source": [
    "df['subreddit'].value_counts()"
   ]
  },
  {
   "cell_type": "markdown",
   "metadata": {},
   "source": [
    "We can see that there are an even 1000 posts scraped from Reddit from our Webscraping efforts."
   ]
  },
  {
   "cell_type": "markdown",
   "metadata": {},
   "source": [
    "## Text Cleaning Tools"
   ]
  },
  {
   "cell_type": "code",
   "execution_count": 3,
   "metadata": {},
   "outputs": [],
   "source": [
    "# using regular expressions to remove punctuation in a function\n",
    "def no_punct(string):\n",
    "    return re.sub(\"[.,😯?😊!’\\\";^+`:*'()-@”“=>_$&<~%|{}\\[\\]]\", \" \", string)"
   ]
  },
  {
   "cell_type": "code",
   "execution_count": 4,
   "metadata": {},
   "outputs": [],
   "source": [
    "# Create a function to clean any column or to feed into a word vectorizer as an analyzer parameter\n",
    "def clean_func(column):\n",
    "    \n",
    "    #remove puntuation with punctuation removal function\n",
    "    column = no_punct(column)\n",
    "    \n",
    "    #lowercase\n",
    "    column = column.lower()\n",
    "    \n",
    "    return column"
   ]
  },
  {
   "cell_type": "code",
   "execution_count": 5,
   "metadata": {},
   "outputs": [],
   "source": [
    "# Function that utilizes lemmatizing and a general Regex to remove punctuation\n",
    "\n",
    "def preprocess(text):\n",
    "    # instantiate lemmatizer\n",
    "    lemmatizer = WordNetLemmatizer()\n",
    "    \n",
    "    # lowercase\n",
    "    text = text.lower()\n",
    "    \n",
    "    # words only Regex, removes punctuation\n",
    "    text = re.sub(\"[^A-Za-z]\", \" \", text)\n",
    "    \n",
    "    # lemmatize\n",
    "    text = lemmatizer.lemmatize(text)\n",
    "    \n",
    "    return text"
   ]
  },
  {
   "cell_type": "markdown",
   "metadata": {},
   "source": [
    "## Data cleaning and Exploratory Data Analysis"
   ]
  },
  {
   "cell_type": "code",
   "execution_count": 6,
   "metadata": {},
   "outputs": [],
   "source": [
    "df.drop_duplicates(inplace=True)\n",
    "df.reset_index(drop=True, inplace=True)"
   ]
  },
  {
   "cell_type": "code",
   "execution_count": 32,
   "metadata": {
    "scrolled": true
   },
   "outputs": [
    {
     "data": {
      "text/plain": [
       "(1995, 3)"
      ]
     },
     "execution_count": 32,
     "metadata": {},
     "output_type": "execute_result"
    }
   ],
   "source": [
    "df.shape"
   ]
  },
  {
   "cell_type": "code",
   "execution_count": 33,
   "metadata": {},
   "outputs": [
    {
     "data": {
      "text/html": [
       "<div>\n",
       "<style scoped>\n",
       "    .dataframe tbody tr th:only-of-type {\n",
       "        vertical-align: middle;\n",
       "    }\n",
       "\n",
       "    .dataframe tbody tr th {\n",
       "        vertical-align: top;\n",
       "    }\n",
       "\n",
       "    .dataframe thead th {\n",
       "        text-align: right;\n",
       "    }\n",
       "</style>\n",
       "<table border=\"1\" class=\"dataframe\">\n",
       "  <thead>\n",
       "    <tr style=\"text-align: right;\">\n",
       "      <th></th>\n",
       "      <th>count</th>\n",
       "      <th>unique</th>\n",
       "      <th>top</th>\n",
       "      <th>freq</th>\n",
       "    </tr>\n",
       "  </thead>\n",
       "  <tbody>\n",
       "    <tr>\n",
       "      <th>text</th>\n",
       "      <td>1364</td>\n",
       "      <td>1364</td>\n",
       "      <td>I usually have around 7-8 hours of sleep every...</td>\n",
       "      <td>1</td>\n",
       "    </tr>\n",
       "    <tr>\n",
       "      <th>title</th>\n",
       "      <td>1995</td>\n",
       "      <td>1989</td>\n",
       "      <td>I want to learn to speak intellectually.</td>\n",
       "      <td>2</td>\n",
       "    </tr>\n",
       "    <tr>\n",
       "      <th>subreddit</th>\n",
       "      <td>1995</td>\n",
       "      <td>2</td>\n",
       "      <td>geocaching</td>\n",
       "      <td>999</td>\n",
       "    </tr>\n",
       "  </tbody>\n",
       "</table>\n",
       "</div>"
      ],
      "text/plain": [
       "          count unique                                                top freq\n",
       "text       1364   1364  I usually have around 7-8 hours of sleep every...    1\n",
       "title      1995   1989           I want to learn to speak intellectually.    2\n",
       "subreddit  1995      2                                         geocaching  999"
      ]
     },
     "execution_count": 33,
     "metadata": {},
     "output_type": "execute_result"
    }
   ],
   "source": [
    "df.describe().T"
   ]
  },
  {
   "cell_type": "code",
   "execution_count": 34,
   "metadata": {
    "scrolled": true
   },
   "outputs": [
    {
     "data": {
      "text/html": [
       "<div>\n",
       "<style scoped>\n",
       "    .dataframe tbody tr th:only-of-type {\n",
       "        vertical-align: middle;\n",
       "    }\n",
       "\n",
       "    .dataframe tbody tr th {\n",
       "        vertical-align: top;\n",
       "    }\n",
       "\n",
       "    .dataframe thead th {\n",
       "        text-align: right;\n",
       "    }\n",
       "</style>\n",
       "<table border=\"1\" class=\"dataframe\">\n",
       "  <thead>\n",
       "    <tr style=\"text-align: right;\">\n",
       "      <th></th>\n",
       "      <th>subreddit</th>\n",
       "      <th>IWantToLearn</th>\n",
       "      <th>geocaching</th>\n",
       "    </tr>\n",
       "  </thead>\n",
       "  <tbody>\n",
       "    <tr>\n",
       "      <th rowspan=\"4\" valign=\"top\">text</th>\n",
       "      <th>count</th>\n",
       "      <td>890</td>\n",
       "      <td>474</td>\n",
       "    </tr>\n",
       "    <tr>\n",
       "      <th>unique</th>\n",
       "      <td>890</td>\n",
       "      <td>474</td>\n",
       "    </tr>\n",
       "    <tr>\n",
       "      <th>top</th>\n",
       "      <td>Ive been recently staying up nights to study d...</td>\n",
       "      <td>...and i am pretty excited and a bit nervous 😁...</td>\n",
       "    </tr>\n",
       "    <tr>\n",
       "      <th>freq</th>\n",
       "      <td>1</td>\n",
       "      <td>1</td>\n",
       "    </tr>\n",
       "    <tr>\n",
       "      <th rowspan=\"4\" valign=\"top\">title</th>\n",
       "      <th>count</th>\n",
       "      <td>996</td>\n",
       "      <td>999</td>\n",
       "    </tr>\n",
       "    <tr>\n",
       "      <th>unique</th>\n",
       "      <td>990</td>\n",
       "      <td>999</td>\n",
       "    </tr>\n",
       "    <tr>\n",
       "      <th>top</th>\n",
       "      <td>I want to learn to speak intellectually.</td>\n",
       "      <td>Presentation from the event GC7JB4 Let's take ...</td>\n",
       "    </tr>\n",
       "    <tr>\n",
       "      <th>freq</th>\n",
       "      <td>2</td>\n",
       "      <td>1</td>\n",
       "    </tr>\n",
       "  </tbody>\n",
       "</table>\n",
       "</div>"
      ],
      "text/plain": [
       "subreddit                                          IWantToLearn  \\\n",
       "text  count                                                 890   \n",
       "      unique                                                890   \n",
       "      top     Ive been recently staying up nights to study d...   \n",
       "      freq                                                    1   \n",
       "title count                                                 996   \n",
       "      unique                                                990   \n",
       "      top              I want to learn to speak intellectually.   \n",
       "      freq                                                    2   \n",
       "\n",
       "subreddit                                            geocaching  \n",
       "text  count                                                 474  \n",
       "      unique                                                474  \n",
       "      top     ...and i am pretty excited and a bit nervous 😁...  \n",
       "      freq                                                    1  \n",
       "title count                                                 999  \n",
       "      unique                                                999  \n",
       "      top     Presentation from the event GC7JB4 Let's take ...  \n",
       "      freq                                                    1  "
      ]
     },
     "execution_count": 34,
     "metadata": {},
     "output_type": "execute_result"
    }
   ],
   "source": [
    "df.groupby('subreddit').describe().T"
   ]
  },
  {
   "cell_type": "markdown",
   "metadata": {},
   "source": [
    "#### Examining duplicate Titles"
   ]
  },
  {
   "cell_type": "code",
   "execution_count": 35,
   "metadata": {},
   "outputs": [
    {
     "data": {
      "text/plain": [
       "I want to learn to speak intellectually.                        2\n",
       "IWTL how to sleep on my back                                    2\n",
       "IWTL how to improve my logical thinking and problem solving.    2\n",
       "IWTL how to play the piano                                      2\n",
       "I want to learn how to sing                                     2\n",
       "IWTL how to meditate                                            2\n",
       "Anyone else had a cache specifically targeted?                  1\n",
       "Name: title, dtype: int64"
      ]
     },
     "execution_count": 35,
     "metadata": {},
     "output_type": "execute_result"
    }
   ],
   "source": [
    "df['title'].value_counts().sort_values(ascending=False).head(7)"
   ]
  },
  {
   "cell_type": "code",
   "execution_count": 36,
   "metadata": {},
   "outputs": [
    {
     "data": {
      "text/html": [
       "<div>\n",
       "<style scoped>\n",
       "    .dataframe tbody tr th:only-of-type {\n",
       "        vertical-align: middle;\n",
       "    }\n",
       "\n",
       "    .dataframe tbody tr th {\n",
       "        vertical-align: top;\n",
       "    }\n",
       "\n",
       "    .dataframe thead th {\n",
       "        text-align: right;\n",
       "    }\n",
       "</style>\n",
       "<table border=\"1\" class=\"dataframe\">\n",
       "  <thead>\n",
       "    <tr style=\"text-align: right;\">\n",
       "      <th></th>\n",
       "      <th>text</th>\n",
       "      <th>title</th>\n",
       "      <th>subreddit</th>\n",
       "    </tr>\n",
       "  </thead>\n",
       "  <tbody>\n",
       "    <tr>\n",
       "      <th>1220</th>\n",
       "      <td>My whole life I’ve been sleeping on my front a...</td>\n",
       "      <td>IWTL how to sleep on my back</td>\n",
       "      <td>IWantToLearn</td>\n",
       "    </tr>\n",
       "    <tr>\n",
       "      <th>1906</th>\n",
       "      <td>It is really difficult for me to fall asleep w...</td>\n",
       "      <td>IWTL how to sleep on my back</td>\n",
       "      <td>IWantToLearn</td>\n",
       "    </tr>\n",
       "  </tbody>\n",
       "</table>\n",
       "</div>"
      ],
      "text/plain": [
       "                                                   text  \\\n",
       "1220  My whole life I’ve been sleeping on my front a...   \n",
       "1906  It is really difficult for me to fall asleep w...   \n",
       "\n",
       "                             title     subreddit  \n",
       "1220  IWTL how to sleep on my back  IWantToLearn  \n",
       "1906  IWTL how to sleep on my back  IWantToLearn  "
      ]
     },
     "execution_count": 36,
     "metadata": {},
     "output_type": "execute_result"
    }
   ],
   "source": [
    "df[df['title']=='IWTL how to sleep on my back']"
   ]
  },
  {
   "cell_type": "markdown",
   "metadata": {},
   "source": [
    "Not a duplicate, just a similar title."
   ]
  },
  {
   "cell_type": "code",
   "execution_count": 37,
   "metadata": {},
   "outputs": [
    {
     "data": {
      "text/html": [
       "<div>\n",
       "<style scoped>\n",
       "    .dataframe tbody tr th:only-of-type {\n",
       "        vertical-align: middle;\n",
       "    }\n",
       "\n",
       "    .dataframe tbody tr th {\n",
       "        vertical-align: top;\n",
       "    }\n",
       "\n",
       "    .dataframe thead th {\n",
       "        text-align: right;\n",
       "    }\n",
       "</style>\n",
       "<table border=\"1\" class=\"dataframe\">\n",
       "  <thead>\n",
       "    <tr style=\"text-align: right;\">\n",
       "      <th></th>\n",
       "      <th>text</th>\n",
       "      <th>title</th>\n",
       "      <th>subreddit</th>\n",
       "    </tr>\n",
       "  </thead>\n",
       "  <tbody>\n",
       "    <tr>\n",
       "      <th>1021</th>\n",
       "      <td>Any and all advice are welcome. (Iwtl easy ico...</td>\n",
       "      <td>IWTL how to play the piano</td>\n",
       "      <td>IWantToLearn</td>\n",
       "    </tr>\n",
       "    <tr>\n",
       "      <th>1212</th>\n",
       "      <td>So I've finally decided I'm going to make use ...</td>\n",
       "      <td>IWTL how to play the piano</td>\n",
       "      <td>IWantToLearn</td>\n",
       "    </tr>\n",
       "  </tbody>\n",
       "</table>\n",
       "</div>"
      ],
      "text/plain": [
       "                                                   text  \\\n",
       "1021  Any and all advice are welcome. (Iwtl easy ico...   \n",
       "1212  So I've finally decided I'm going to make use ...   \n",
       "\n",
       "                           title     subreddit  \n",
       "1021  IWTL how to play the piano  IWantToLearn  \n",
       "1212  IWTL how to play the piano  IWantToLearn  "
      ]
     },
     "execution_count": 37,
     "metadata": {},
     "output_type": "execute_result"
    }
   ],
   "source": [
    "df[df['title']=='IWTL how to play the piano']"
   ]
  },
  {
   "cell_type": "markdown",
   "metadata": {},
   "source": [
    "Ok, text body is different."
   ]
  },
  {
   "cell_type": "code",
   "execution_count": 38,
   "metadata": {},
   "outputs": [
    {
     "data": {
      "text/html": [
       "<div>\n",
       "<style scoped>\n",
       "    .dataframe tbody tr th:only-of-type {\n",
       "        vertical-align: middle;\n",
       "    }\n",
       "\n",
       "    .dataframe tbody tr th {\n",
       "        vertical-align: top;\n",
       "    }\n",
       "\n",
       "    .dataframe thead th {\n",
       "        text-align: right;\n",
       "    }\n",
       "</style>\n",
       "<table border=\"1\" class=\"dataframe\">\n",
       "  <thead>\n",
       "    <tr style=\"text-align: right;\">\n",
       "      <th></th>\n",
       "      <th>text</th>\n",
       "      <th>title</th>\n",
       "      <th>subreddit</th>\n",
       "    </tr>\n",
       "  </thead>\n",
       "  <tbody>\n",
       "    <tr>\n",
       "      <th>1573</th>\n",
       "      <td>I never had proper training on singing but I k...</td>\n",
       "      <td>I want to learn how to sing</td>\n",
       "      <td>IWantToLearn</td>\n",
       "    </tr>\n",
       "    <tr>\n",
       "      <th>1733</th>\n",
       "      <td>Long short story I can't afford a vocal coach....</td>\n",
       "      <td>I want to learn how to sing</td>\n",
       "      <td>IWantToLearn</td>\n",
       "    </tr>\n",
       "  </tbody>\n",
       "</table>\n",
       "</div>"
      ],
      "text/plain": [
       "                                                   text  \\\n",
       "1573  I never had proper training on singing but I k...   \n",
       "1733  Long short story I can't afford a vocal coach....   \n",
       "\n",
       "                            title     subreddit  \n",
       "1573  I want to learn how to sing  IWantToLearn  \n",
       "1733  I want to learn how to sing  IWantToLearn  "
      ]
     },
     "execution_count": 38,
     "metadata": {},
     "output_type": "execute_result"
    }
   ],
   "source": [
    "df[df['title']=='I want to learn how to sing']"
   ]
  },
  {
   "cell_type": "markdown",
   "metadata": {},
   "source": [
    "Ok, text body is different."
   ]
  },
  {
   "cell_type": "code",
   "execution_count": 39,
   "metadata": {},
   "outputs": [
    {
     "data": {
      "text/html": [
       "<div>\n",
       "<style scoped>\n",
       "    .dataframe tbody tr th:only-of-type {\n",
       "        vertical-align: middle;\n",
       "    }\n",
       "\n",
       "    .dataframe tbody tr th {\n",
       "        vertical-align: top;\n",
       "    }\n",
       "\n",
       "    .dataframe thead th {\n",
       "        text-align: right;\n",
       "    }\n",
       "</style>\n",
       "<table border=\"1\" class=\"dataframe\">\n",
       "  <thead>\n",
       "    <tr style=\"text-align: right;\">\n",
       "      <th></th>\n",
       "      <th>text</th>\n",
       "      <th>title</th>\n",
       "      <th>subreddit</th>\n",
       "    </tr>\n",
       "  </thead>\n",
       "  <tbody>\n",
       "    <tr>\n",
       "      <th>1284</th>\n",
       "      <td>I'm trying to learn to meditate but I'm not su...</td>\n",
       "      <td>IWTL how to meditate</td>\n",
       "      <td>IWantToLearn</td>\n",
       "    </tr>\n",
       "    <tr>\n",
       "      <th>1403</th>\n",
       "      <td>I want to try it out but I don't know where to...</td>\n",
       "      <td>IWTL how to meditate</td>\n",
       "      <td>IWantToLearn</td>\n",
       "    </tr>\n",
       "  </tbody>\n",
       "</table>\n",
       "</div>"
      ],
      "text/plain": [
       "                                                   text                 title  \\\n",
       "1284  I'm trying to learn to meditate but I'm not su...  IWTL how to meditate   \n",
       "1403  I want to try it out but I don't know where to...  IWTL how to meditate   \n",
       "\n",
       "         subreddit  \n",
       "1284  IWantToLearn  \n",
       "1403  IWantToLearn  "
      ]
     },
     "execution_count": 39,
     "metadata": {},
     "output_type": "execute_result"
    }
   ],
   "source": [
    "df[df['title']=='IWTL how to meditate']"
   ]
  },
  {
   "cell_type": "markdown",
   "metadata": {},
   "source": [
    "Ok, text body is different."
   ]
  },
  {
   "cell_type": "code",
   "execution_count": 40,
   "metadata": {},
   "outputs": [
    {
     "data": {
      "text/html": [
       "<div>\n",
       "<style scoped>\n",
       "    .dataframe tbody tr th:only-of-type {\n",
       "        vertical-align: middle;\n",
       "    }\n",
       "\n",
       "    .dataframe tbody tr th {\n",
       "        vertical-align: top;\n",
       "    }\n",
       "\n",
       "    .dataframe thead th {\n",
       "        text-align: right;\n",
       "    }\n",
       "</style>\n",
       "<table border=\"1\" class=\"dataframe\">\n",
       "  <thead>\n",
       "    <tr style=\"text-align: right;\">\n",
       "      <th></th>\n",
       "      <th>text</th>\n",
       "      <th>title</th>\n",
       "      <th>subreddit</th>\n",
       "    </tr>\n",
       "  </thead>\n",
       "  <tbody>\n",
       "    <tr>\n",
       "      <th>1009</th>\n",
       "      <td>I am awkwardly uncomfortable speaking out loud...</td>\n",
       "      <td>I want to learn to speak intellectually.</td>\n",
       "      <td>IWantToLearn</td>\n",
       "    </tr>\n",
       "    <tr>\n",
       "      <th>1979</th>\n",
       "      <td>I am awkwardly uncomfortable speaking out loud...</td>\n",
       "      <td>I want to learn to speak intellectually.</td>\n",
       "      <td>IWantToLearn</td>\n",
       "    </tr>\n",
       "  </tbody>\n",
       "</table>\n",
       "</div>"
      ],
      "text/plain": [
       "                                                   text  \\\n",
       "1009  I am awkwardly uncomfortable speaking out loud...   \n",
       "1979  I am awkwardly uncomfortable speaking out loud...   \n",
       "\n",
       "                                         title     subreddit  \n",
       "1009  I want to learn to speak intellectually.  IWantToLearn  \n",
       "1979  I want to learn to speak intellectually.  IWantToLearn  "
      ]
     },
     "execution_count": 40,
     "metadata": {},
     "output_type": "execute_result"
    }
   ],
   "source": [
    "df[df['title']=='I want to learn to speak intellectually.']"
   ]
  },
  {
   "cell_type": "code",
   "execution_count": 41,
   "metadata": {},
   "outputs": [
    {
     "data": {
      "text/plain": [
       "'I am awkwardly uncomfortable speaking out loud about anything that I don’t know much about.  I constantly feel like my vocabulary is not where I want it to be.  I’m in college and I feel like I write like an 8th grader.  I say thinks like “like” and “dude” and “that’s what she said” a lot and I can’t seem to stop.  How do I change this?  Before you guys tell me to read more books, what exact books should I be reading?  Any other tips are welcomed.'"
      ]
     },
     "execution_count": 41,
     "metadata": {},
     "output_type": "execute_result"
    }
   ],
   "source": [
    "df['text'].iloc[1009]"
   ]
  },
  {
   "cell_type": "code",
   "execution_count": 42,
   "metadata": {},
   "outputs": [
    {
     "data": {
      "text/plain": [
       "'I am awkwardly uncomfortable speaking out loud about anything that I don’t know much about.  I constantly feel like my vocabulary is not where I want it to be.  I’m in college and I feel like I write like an 8th grader.  I say things like “like” and “dude” and “that’s what she said” a lot and I can’t seem to stop.  How do I change this?  Before you guys tell me to read more books, what exact books should I be reading?  Any other tips are welcomed.'"
      ]
     },
     "execution_count": 42,
     "metadata": {},
     "output_type": "execute_result"
    }
   ],
   "source": [
    "df['text'].iloc[1979]"
   ]
  },
  {
   "cell_type": "code",
   "execution_count": 43,
   "metadata": {},
   "outputs": [
    {
     "data": {
      "text/plain": [
       "451"
      ]
     },
     "execution_count": 43,
     "metadata": {},
     "output_type": "execute_result"
    }
   ],
   "source": [
    "len(df['text'].iloc[1009])"
   ]
  },
  {
   "cell_type": "code",
   "execution_count": 44,
   "metadata": {},
   "outputs": [
    {
     "data": {
      "text/plain": [
       "451"
      ]
     },
     "execution_count": 44,
     "metadata": {},
     "output_type": "execute_result"
    }
   ],
   "source": [
    "len(df['text'].iloc[1979])"
   ]
  },
  {
   "cell_type": "code",
   "execution_count": 45,
   "metadata": {},
   "outputs": [
    {
     "name": "stdout",
     "output_type": "stream",
     "text": [
      "[]\n"
     ]
    }
   ],
   "source": [
    "diff = []\n",
    "for char in df['text'].iloc[1009]:\n",
    "    if char not in df['text'].iloc[1979]:\n",
    "        diff.append(char)\n",
    "print(diff)"
   ]
  },
  {
   "cell_type": "markdown",
   "metadata": {},
   "source": [
    "These are duplicates even though I ran `.drop_duplicates` I can find no difference between the two posts so I will drop one arbitrarily anyway."
   ]
  },
  {
   "cell_type": "code",
   "execution_count": 7,
   "metadata": {},
   "outputs": [],
   "source": [
    "df.drop(1979, axis='index', inplace=True)"
   ]
  },
  {
   "cell_type": "code",
   "execution_count": 47,
   "metadata": {},
   "outputs": [
    {
     "data": {
      "text/html": [
       "<div>\n",
       "<style scoped>\n",
       "    .dataframe tbody tr th:only-of-type {\n",
       "        vertical-align: middle;\n",
       "    }\n",
       "\n",
       "    .dataframe tbody tr th {\n",
       "        vertical-align: top;\n",
       "    }\n",
       "\n",
       "    .dataframe thead th {\n",
       "        text-align: right;\n",
       "    }\n",
       "</style>\n",
       "<table border=\"1\" class=\"dataframe\">\n",
       "  <thead>\n",
       "    <tr style=\"text-align: right;\">\n",
       "      <th></th>\n",
       "      <th>text</th>\n",
       "      <th>title</th>\n",
       "      <th>subreddit</th>\n",
       "    </tr>\n",
       "  </thead>\n",
       "  <tbody>\n",
       "    <tr>\n",
       "      <th>1002</th>\n",
       "      <td>Hi guys, are there any good courses, games or ...</td>\n",
       "      <td>IWTL how to improve my logical thinking and pr...</td>\n",
       "      <td>IWantToLearn</td>\n",
       "    </tr>\n",
       "    <tr>\n",
       "      <th>1049</th>\n",
       "      <td>Hi guys, are there any good courses, games or ...</td>\n",
       "      <td>IWTL how to improve my logical thinking and pr...</td>\n",
       "      <td>IWantToLearn</td>\n",
       "    </tr>\n",
       "  </tbody>\n",
       "</table>\n",
       "</div>"
      ],
      "text/plain": [
       "                                                   text  \\\n",
       "1002  Hi guys, are there any good courses, games or ...   \n",
       "1049  Hi guys, are there any good courses, games or ...   \n",
       "\n",
       "                                                  title     subreddit  \n",
       "1002  IWTL how to improve my logical thinking and pr...  IWantToLearn  \n",
       "1049  IWTL how to improve my logical thinking and pr...  IWantToLearn  "
      ]
     },
     "execution_count": 47,
     "metadata": {},
     "output_type": "execute_result"
    }
   ],
   "source": [
    "df[df['title']=='IWTL how to improve my logical thinking and problem solving.']"
   ]
  },
  {
   "cell_type": "code",
   "execution_count": 48,
   "metadata": {},
   "outputs": [
    {
     "data": {
      "text/plain": [
       "'Hi guys, are there any good courses, games or exercises to improve my logical thinking and problem solving ?\\nHow can i improve them ?\\nThanks in Advance.'"
      ]
     },
     "execution_count": 48,
     "metadata": {},
     "output_type": "execute_result"
    }
   ],
   "source": [
    "df['text'].iloc[1002]"
   ]
  },
  {
   "cell_type": "code",
   "execution_count": 49,
   "metadata": {},
   "outputs": [
    {
     "data": {
      "text/plain": [
       "'Hi guys, are there any good courses, games or exercises ti improve mi logical thinking and problem solving ?\\nHow can i improve them ?\\nThanks in Advance.'"
      ]
     },
     "execution_count": 49,
     "metadata": {},
     "output_type": "execute_result"
    }
   ],
   "source": [
    "df['text'].iloc[1049]"
   ]
  },
  {
   "cell_type": "markdown",
   "metadata": {},
   "source": [
    "This is almost a verbatum text description but we can see that there were a few typos. What this means is that the redditor posted this thread and then edited it, but the Webscraper picked up both postings. In this case, drop the first post so as not to bias the models on the mytyped words and double count or weight the rest."
   ]
  },
  {
   "cell_type": "code",
   "execution_count": 8,
   "metadata": {},
   "outputs": [],
   "source": [
    "df.drop(1049, axis='index', inplace=True)\n",
    "df.reset_index(drop=True, inplace=True)"
   ]
  },
  {
   "cell_type": "code",
   "execution_count": 51,
   "metadata": {},
   "outputs": [
    {
     "data": {
      "text/plain": [
       "(1993, 3)"
      ]
     },
     "execution_count": 51,
     "metadata": {},
     "output_type": "execute_result"
    }
   ],
   "source": [
    "# Check to see that the two duplicates were removed.\n",
    "df.shape"
   ]
  },
  {
   "cell_type": "markdown",
   "metadata": {},
   "source": [
    "With the removal of duplicates, the new dataframe is 1993 posts long."
   ]
  },
  {
   "cell_type": "code",
   "execution_count": 9,
   "metadata": {},
   "outputs": [],
   "source": [
    "# Create boolean masks to examine geocaching and IWantToLearn subreddits separately.\n",
    "geocaching = df['subreddit'] == 'geocaching'\n",
    "iwtl = df['subreddit'] == 'IWantToLearn'"
   ]
  },
  {
   "cell_type": "markdown",
   "metadata": {},
   "source": [
    "#### Examining null values"
   ]
  },
  {
   "cell_type": "code",
   "execution_count": 53,
   "metadata": {
    "scrolled": true
   },
   "outputs": [
    {
     "data": {
      "text/plain": [
       "text         631\n",
       "title          0\n",
       "subreddit      0\n",
       "dtype: int64"
      ]
     },
     "execution_count": 53,
     "metadata": {},
     "output_type": "execute_result"
    }
   ],
   "source": [
    "df.isnull().sum()"
   ]
  },
  {
   "cell_type": "code",
   "execution_count": 54,
   "metadata": {},
   "outputs": [
    {
     "data": {
      "text/plain": [
       "text         525\n",
       "title          0\n",
       "subreddit      0\n",
       "dtype: int64"
      ]
     },
     "execution_count": 54,
     "metadata": {},
     "output_type": "execute_result"
    }
   ],
   "source": [
    "df[geocaching].isnull().sum()"
   ]
  },
  {
   "cell_type": "code",
   "execution_count": 55,
   "metadata": {},
   "outputs": [
    {
     "data": {
      "text/plain": [
       "text         106\n",
       "title          0\n",
       "subreddit      0\n",
       "dtype: int64"
      ]
     },
     "execution_count": 55,
     "metadata": {},
     "output_type": "execute_result"
    }
   ],
   "source": [
    "df[iwtl].isnull().sum()"
   ]
  },
  {
   "cell_type": "markdown",
   "metadata": {},
   "source": [
    "About half of the geocaching posts do not have text in the post description, while only 10% of IWantToLearn posts do not. What this could mean is that IWantToLearn redditors are more willing to go into detail in their posts while geocaching redditors do not or post links."
   ]
  },
  {
   "cell_type": "code",
   "execution_count": 10,
   "metadata": {},
   "outputs": [],
   "source": [
    "# Fill empty text posts with 'NA'\n",
    "df.fillna('NA', inplace=True)"
   ]
  },
  {
   "cell_type": "markdown",
   "metadata": {},
   "source": [
    "### Examining Title and Text by number of words in each"
   ]
  },
  {
   "cell_type": "code",
   "execution_count": 143,
   "metadata": {},
   "outputs": [
    {
     "data": {
      "image/png": "[encoded data removed]",
      "text/plain": [
       "<Figure size 576x576 with 1 Axes>"
      ]
     },
     "metadata": {},
     "output_type": "display_data"
    }
   ],
   "source": [
    "# Look at length of geocaching title\n",
    "geo_title_length = df[geocaching]['title'].map(clean_func)\n",
    "geo_title_length = geo_title_length.str.split()\n",
    "geo_title_length = geo_title_length.apply(len)\n",
    "\n",
    "# Plot as a histogram\n",
    "geo_title_length.plot(bins=50, kind='hist', \n",
    "                      figsize=(8,8),\n",
    "                     title='Geocaching Title length (words)'\n",
    "                     );"
   ]
  },
  {
   "cell_type": "code",
   "execution_count": 58,
   "metadata": {},
   "outputs": [
    {
     "data": {
      "text/plain": [
       "count    999.000000\n",
       "mean       9.554555\n",
       "std        8.033421\n",
       "min        1.000000\n",
       "25%        4.000000\n",
       "50%        7.000000\n",
       "75%       12.000000\n",
       "max       62.000000\n",
       "Name: title, dtype: float64"
      ]
     },
     "execution_count": 58,
     "metadata": {},
     "output_type": "execute_result"
    }
   ],
   "source": [
    "geo_title_length.describe()"
   ]
  },
  {
   "cell_type": "markdown",
   "metadata": {},
   "source": [
    "Mostly distributed under 10 words but really skewed with a long tail. So there are only a few outlier titles that are really long."
   ]
  },
  {
   "cell_type": "code",
   "execution_count": 144,
   "metadata": {},
   "outputs": [
    {
     "data": {
      "image/png": "[encoded data removed]",
      "text/plain": [
       "<Figure size 576x576 with 1 Axes>"
      ]
     },
     "metadata": {},
     "output_type": "display_data"
    }
   ],
   "source": [
    "# Look at length of geocaching text\n",
    "geo_text_length = df[geocaching]['text'].map(clean_func)\n",
    "geo_text_length = geo_text_length.str.split()\n",
    "geo_text_length = geo_text_length.apply(len)\n",
    "\n",
    "geo_text_length.plot(bins=50, kind='hist',\n",
    "                     figsize=(8,8),\n",
    "                     title='Geocaching Text length (words)');"
   ]
  },
  {
   "cell_type": "markdown",
   "metadata": {},
   "source": [
    "Many posts have no text, or very short text bodies. But there is a much more longer skew with the tail on the right. Since text bodies can be longer, there are a few posts that are even longer than the longest titles"
   ]
  },
  {
   "cell_type": "code",
   "execution_count": 60,
   "metadata": {},
   "outputs": [
    {
     "data": {
      "text/plain": [
       "count    999.000000\n",
       "mean      41.844845\n",
       "std       70.957119\n",
       "min        1.000000\n",
       "25%        1.000000\n",
       "50%        1.000000\n",
       "75%       61.000000\n",
       "max      612.000000\n",
       "Name: text, dtype: float64"
      ]
     },
     "execution_count": 60,
     "metadata": {},
     "output_type": "execute_result"
    }
   ],
   "source": [
    "geo_text_length.describe()"
   ]
  },
  {
   "cell_type": "code",
   "execution_count": 145,
   "metadata": {},
   "outputs": [
    {
     "data": {
      "image/png": "[encoded data removed]",
      "text/plain": [
       "<Figure size 576x576 with 1 Axes>"
      ]
     },
     "metadata": {},
     "output_type": "display_data"
    }
   ],
   "source": [
    "# Look at length of IWantToLearn title\n",
    "iwtl_title_length = df[iwtl]['title'].map(clean_func)\n",
    "iwtl_title_length = iwtl_title_length.str.split()\n",
    "iwtl_title_length = iwtl_title_length.apply(len)\n",
    "\n",
    "iwtl_title_length.plot(bins=50, kind='hist',\n",
    "                       figsize=(8,8),\n",
    "                       title='IWantToLearn Title length (words)');"
   ]
  },
  {
   "cell_type": "code",
   "execution_count": 62,
   "metadata": {},
   "outputs": [
    {
     "data": {
      "text/plain": [
       "count    994.000000\n",
       "mean       8.823944\n",
       "std        5.089154\n",
       "min        1.000000\n",
       "25%        6.000000\n",
       "50%        8.000000\n",
       "75%       10.000000\n",
       "max       61.000000\n",
       "Name: title, dtype: float64"
      ]
     },
     "execution_count": 62,
     "metadata": {},
     "output_type": "execute_result"
    }
   ],
   "source": [
    "iwtl_title_length.describe()"
   ]
  },
  {
   "cell_type": "code",
   "execution_count": 146,
   "metadata": {},
   "outputs": [
    {
     "data": {
      "image/png": "[encoded data removed]",
      "text/plain": [
       "<Figure size 576x576 with 1 Axes>"
      ]
     },
     "metadata": {},
     "output_type": "display_data"
    }
   ],
   "source": [
    "# Look at length of IWantToLearn text\n",
    "iwtl_text_length = df[iwtl]['text'].map(clean_func)\n",
    "iwtl_text_length = iwtl_text_length.str.split()\n",
    "iwtl_text_length = iwtl_text_length.apply(len)\n",
    "\n",
    "iwtl_text_length.plot(bins=50, kind='hist',\n",
    "                      figsize=(8,8),\n",
    "                      title='IWantToLearn Text length (words)');"
   ]
  },
  {
   "cell_type": "code",
   "execution_count": 64,
   "metadata": {},
   "outputs": [
    {
     "data": {
      "text/plain": [
       "count     994.000000\n",
       "mean       75.691147\n",
       "std        99.553647\n",
       "min         1.000000\n",
       "25%        27.000000\n",
       "50%        54.000000\n",
       "75%        92.000000\n",
       "max      1657.000000\n",
       "Name: text, dtype: float64"
      ]
     },
     "execution_count": 64,
     "metadata": {},
     "output_type": "execute_result"
    }
   ],
   "source": [
    "iwtl_text_length.describe()"
   ]
  },
  {
   "cell_type": "markdown",
   "metadata": {},
   "source": [
    "At a glance it looks like IWantToLearn titles and Geocaching titles are mostly distributed in less than 10 words. IWantToLearn posts have fewer \"title only\" type posts and tend to be longer than the geocaching posts that do have text."
   ]
  },
  {
   "cell_type": "markdown",
   "metadata": {},
   "source": [
    "#### Since I want to predict a binary variable - subreddit `0` for geocaching and `1` for IWantToLearn."
   ]
  },
  {
   "cell_type": "code",
   "execution_count": 11,
   "metadata": {},
   "outputs": [],
   "source": [
    "y = df['subreddit'].map({'geocaching': 0, 'IWantToLearn': 1})"
   ]
  },
  {
   "cell_type": "markdown",
   "metadata": {},
   "source": [
    "## Train-Test Split"
   ]
  },
  {
   "cell_type": "code",
   "execution_count": 12,
   "metadata": {},
   "outputs": [],
   "source": [
    "X_train, X_test, y_train, y_test = train_test_split(df, y, random_state=42)"
   ]
  },
  {
   "cell_type": "markdown",
   "metadata": {
    "focus": false,
    "id": "db045898-1d2d-4af2-8e79-437c4c7546b4"
   },
   "source": [
    "# Natural Language Processing"
   ]
  },
  {
   "cell_type": "markdown",
   "metadata": {},
   "source": [
    "### Master stopword list"
   ]
  },
  {
   "cell_type": "code",
   "execution_count": 13,
   "metadata": {},
   "outputs": [],
   "source": [
    "# Create a master stopword list from both stopword lists\n",
    "custom_stopwords = list(set(stopwords.words('english') + list(stop_words.ENGLISH_STOP_WORDS)))\n",
    "\n",
    "# Add 'na' because it indicates an empty text post\n",
    "custom_stopwords.extend(['na'])"
   ]
  },
  {
   "cell_type": "code",
   "execution_count": 68,
   "metadata": {},
   "outputs": [
    {
     "data": {
      "text/plain": [
       "379"
      ]
     },
     "execution_count": 68,
     "metadata": {},
     "output_type": "execute_result"
    }
   ],
   "source": [
    "len(custom_stopwords)"
   ]
  },
  {
   "cell_type": "code",
   "execution_count": 14,
   "metadata": {},
   "outputs": [],
   "source": [
    "# Create a stopword list that only takes out 'na'\n",
    "no_na = ['na']"
   ]
  },
  {
   "cell_type": "markdown",
   "metadata": {},
   "source": [
    "## Count Vectorizer"
   ]
  },
  {
   "cell_type": "code",
   "execution_count": 51,
   "metadata": {},
   "outputs": [],
   "source": [
    "# Instantiate countvectorizer\n",
    "cvec = CountVectorizer(stop_words=custom_stopwords)"
   ]
  },
  {
   "cell_type": "code",
   "execution_count": 52,
   "metadata": {},
   "outputs": [],
   "source": [
    "title_counts = cvec.fit_transform(X_train['title'])"
   ]
  },
  {
   "cell_type": "code",
   "execution_count": 53,
   "metadata": {},
   "outputs": [],
   "source": [
    "counts = pd.DataFrame(title_counts.todense(), columns=cvec.vocabulary_)"
   ]
  },
  {
   "cell_type": "code",
   "execution_count": 150,
   "metadata": {
    "scrolled": false
   },
   "outputs": [
    {
     "data": {
      "text/plain": [
       "shine           560\n",
       "looks           143\n",
       "feed            121\n",
       "figure           91\n",
       "fighting         84\n",
       "explorist        71\n",
       "fl               57\n",
       "exports          47\n",
       "added            43\n",
       "collaborated     36\n",
       "dtype: int64"
      ]
     },
     "execution_count": 150,
     "metadata": {},
     "output_type": "execute_result"
    }
   ],
   "source": [
    "# See what top counted words appear in the Titles\n",
    "top_title_words_c = counts.sum().sort_values(ascending=False)[0:10]\n",
    "top_title_words_c"
   ]
  },
  {
   "cell_type": "code",
   "execution_count": 151,
   "metadata": {},
   "outputs": [
    {
     "data": {
      "image/png": "[encoded data removed]",
      "text/plain": [
       "<Figure size 360x360 with 1 Axes>"
      ]
     },
     "metadata": {},
     "output_type": "display_data"
    }
   ],
   "source": [
    "top_title_words_c.plot(kind='barh', figsize=(5,5),\n",
    "                      title='Top Title Words');"
   ]
  },
  {
   "cell_type": "code",
   "execution_count": 59,
   "metadata": {},
   "outputs": [],
   "source": [
    "text_counts = cvec.fit_transform(X_train['text'])"
   ]
  },
  {
   "cell_type": "code",
   "execution_count": 60,
   "metadata": {
    "scrolled": true
   },
   "outputs": [],
   "source": [
    "counts2 = pd.DataFrame(text_counts.todense(), columns=cvec.vocabulary_)"
   ]
  },
  {
   "cell_type": "code",
   "execution_count": 152,
   "metadata": {},
   "outputs": [
    {
     "data": {
      "text/plain": [
       "electro          505\n",
       "advertised       376\n",
       "fucking          365\n",
       "oregon           271\n",
       "gender           262\n",
       "geocachingnsw    253\n",
       "tutorials        250\n",
       "matlab           220\n",
       "fork             186\n",
       "2017             176\n",
       "dtype: int64"
      ]
     },
     "execution_count": 152,
     "metadata": {},
     "output_type": "execute_result"
    }
   ],
   "source": [
    "# See what top counted words appear in the Text post\n",
    "top_text_words_c = counts2.sum().sort_values(ascending=False)[0:10]\n",
    "top_text_words_c"
   ]
  },
  {
   "cell_type": "code",
   "execution_count": 153,
   "metadata": {},
   "outputs": [
    {
     "data": {
      "image/png": "[encoded data removed]",
      "text/plain": [
       "<Figure size 360x360 with 1 Axes>"
      ]
     },
     "metadata": {},
     "output_type": "display_data"
    }
   ],
   "source": [
    "top_text_words_c.plot(kind='barh', figsize=(5,5),\n",
    "                     title='Top Text Words');"
   ]
  },
  {
   "cell_type": "markdown",
   "metadata": {},
   "source": [
    "Note of interest that words that are part of each subreddit's culture do not appear in the top 20 or even top 50 lists. Words such as \"geocache\" and \"iwtl\"."
   ]
  },
  {
   "cell_type": "code",
   "execution_count": 77,
   "metadata": {},
   "outputs": [
    {
     "data": {
      "text/plain": [
       "(1494, 9911)"
      ]
     },
     "execution_count": 77,
     "metadata": {},
     "output_type": "execute_result"
    }
   ],
   "source": [
    "# Concatenate all counts into \n",
    "all_counts = pd.concat([counts, counts2], axis=1)\n",
    "all_counts.shape"
   ]
  },
  {
   "cell_type": "markdown",
   "metadata": {},
   "source": [
    "## Term Frequency - Inverse Document Frequency\n",
    "\n",
    "#### Does it make a difference?"
   ]
  },
  {
   "cell_type": "markdown",
   "metadata": {},
   "source": [
    "#### Title"
   ]
  },
  {
   "cell_type": "code",
   "execution_count": 78,
   "metadata": {},
   "outputs": [],
   "source": [
    "# Instantiate \n",
    "tvec = TfidfVectorizer(stop_words=custom_stopwords)"
   ]
  },
  {
   "cell_type": "code",
   "execution_count": 79,
   "metadata": {},
   "outputs": [],
   "source": [
    "title_tf = tvec.fit_transform(X_train['title'])"
   ]
  },
  {
   "cell_type": "code",
   "execution_count": 80,
   "metadata": {},
   "outputs": [],
   "source": [
    "title_tf_fit = pd.DataFrame(title_tf.todense(), columns=tvec.vocabulary_)"
   ]
  },
  {
   "cell_type": "code",
   "execution_count": 81,
   "metadata": {},
   "outputs": [
    {
     "data": {
      "text/plain": [
       "shine           96.182752\n",
       "looks           39.276772\n",
       "feed            34.215720\n",
       "figure          28.322361\n",
       "fighting        27.203960\n",
       "explorist       24.345841\n",
       "fl              17.475491\n",
       "exports         14.163197\n",
       "added           14.118537\n",
       "collaborated    13.954623\n",
       "met             12.110098\n",
       "extra           12.033046\n",
       "single          11.677608\n",
       "pay             11.657905\n",
       "calendar        10.943987\n",
       "receiving       10.621959\n",
       "etiquette       10.613149\n",
       "binge           10.331351\n",
       "20              10.156783\n",
       "augusta         10.054043\n",
       "dtype: float64"
      ]
     },
     "execution_count": 81,
     "metadata": {},
     "output_type": "execute_result"
    }
   ],
   "source": [
    "# See that there were a few changes to top words when inverse document frequency is applied\n",
    "top_title_words_tf = title_tf_fit.sum().sort_values(ascending=False)[0:20]\n",
    "top_title_words_tf"
   ]
  },
  {
   "cell_type": "markdown",
   "metadata": {},
   "source": [
    "#### Text"
   ]
  },
  {
   "cell_type": "code",
   "execution_count": 82,
   "metadata": {},
   "outputs": [],
   "source": [
    "text_tf = tvec.fit_transform(X_train['text'])"
   ]
  },
  {
   "cell_type": "code",
   "execution_count": 83,
   "metadata": {},
   "outputs": [],
   "source": [
    "text_tf_fit = pd.DataFrame(text_tf.todense(), columns=tvec.vocabulary_)"
   ]
  },
  {
   "cell_type": "code",
   "execution_count": 84,
   "metadata": {},
   "outputs": [
    {
     "data": {
      "text/plain": [
       "electro          34.715441\n",
       "advertised       29.653051\n",
       "fucking          29.457742\n",
       "oregon           24.700624\n",
       "tutorials        20.429052\n",
       "gender           20.376762\n",
       "geocachingnsw    18.942764\n",
       "2017             18.252320\n",
       "mladen           17.776934\n",
       "matlab           17.671167\n",
       "ol               17.613669\n",
       "fork             16.223027\n",
       "em               15.973496\n",
       "intonation       15.262113\n",
       "haha             14.821731\n",
       "distractible     13.402571\n",
       "wheel            13.181590\n",
       "openly           13.070319\n",
       "mainly           13.066385\n",
       "21               12.800917\n",
       "dtype: float64"
      ]
     },
     "execution_count": 84,
     "metadata": {},
     "output_type": "execute_result"
    }
   ],
   "source": [
    "top_text_words_tf = text_tf_fit.sum().sort_values(ascending=False)[0:20]\n",
    "top_text_words_tf"
   ]
  },
  {
   "cell_type": "markdown",
   "metadata": {},
   "source": [
    "### Comparison between CountVectorizer and TF-IDF"
   ]
  },
  {
   "cell_type": "code",
   "execution_count": 85,
   "metadata": {},
   "outputs": [
    {
     "data": {
      "text/html": [
       "<div>\n",
       "<style scoped>\n",
       "    .dataframe tbody tr th:only-of-type {\n",
       "        vertical-align: middle;\n",
       "    }\n",
       "\n",
       "    .dataframe tbody tr th {\n",
       "        vertical-align: top;\n",
       "    }\n",
       "\n",
       "    .dataframe thead th {\n",
       "        text-align: right;\n",
       "    }\n",
       "</style>\n",
       "<table border=\"1\" class=\"dataframe\">\n",
       "  <thead>\n",
       "    <tr style=\"text-align: right;\">\n",
       "      <th></th>\n",
       "      <th>0</th>\n",
       "      <th>1</th>\n",
       "    </tr>\n",
       "  </thead>\n",
       "  <tbody>\n",
       "    <tr>\n",
       "      <th>shine</th>\n",
       "      <td>560.0</td>\n",
       "      <td>96.182752</td>\n",
       "    </tr>\n",
       "    <tr>\n",
       "      <th>looks</th>\n",
       "      <td>143.0</td>\n",
       "      <td>39.276772</td>\n",
       "    </tr>\n",
       "    <tr>\n",
       "      <th>feed</th>\n",
       "      <td>121.0</td>\n",
       "      <td>34.215720</td>\n",
       "    </tr>\n",
       "    <tr>\n",
       "      <th>figure</th>\n",
       "      <td>91.0</td>\n",
       "      <td>28.322361</td>\n",
       "    </tr>\n",
       "    <tr>\n",
       "      <th>fighting</th>\n",
       "      <td>84.0</td>\n",
       "      <td>27.203960</td>\n",
       "    </tr>\n",
       "    <tr>\n",
       "      <th>explorist</th>\n",
       "      <td>71.0</td>\n",
       "      <td>24.345841</td>\n",
       "    </tr>\n",
       "    <tr>\n",
       "      <th>fl</th>\n",
       "      <td>57.0</td>\n",
       "      <td>17.475491</td>\n",
       "    </tr>\n",
       "    <tr>\n",
       "      <th>exports</th>\n",
       "      <td>47.0</td>\n",
       "      <td>14.163197</td>\n",
       "    </tr>\n",
       "    <tr>\n",
       "      <th>added</th>\n",
       "      <td>43.0</td>\n",
       "      <td>14.118537</td>\n",
       "    </tr>\n",
       "    <tr>\n",
       "      <th>collaborated</th>\n",
       "      <td>36.0</td>\n",
       "      <td>13.954623</td>\n",
       "    </tr>\n",
       "    <tr>\n",
       "      <th>calendar</th>\n",
       "      <td>31.0</td>\n",
       "      <td>10.943987</td>\n",
       "    </tr>\n",
       "    <tr>\n",
       "      <th>single</th>\n",
       "      <td>30.0</td>\n",
       "      <td>11.677608</td>\n",
       "    </tr>\n",
       "    <tr>\n",
       "      <th>met</th>\n",
       "      <td>29.0</td>\n",
       "      <td>12.110098</td>\n",
       "    </tr>\n",
       "    <tr>\n",
       "      <th>extra</th>\n",
       "      <td>29.0</td>\n",
       "      <td>12.033046</td>\n",
       "    </tr>\n",
       "    <tr>\n",
       "      <th>binge</th>\n",
       "      <td>28.0</td>\n",
       "      <td>10.331351</td>\n",
       "    </tr>\n",
       "    <tr>\n",
       "      <th>receiving</th>\n",
       "      <td>27.0</td>\n",
       "      <td>10.621959</td>\n",
       "    </tr>\n",
       "    <tr>\n",
       "      <th>etiquette</th>\n",
       "      <td>27.0</td>\n",
       "      <td>10.613149</td>\n",
       "    </tr>\n",
       "    <tr>\n",
       "      <th>automotive</th>\n",
       "      <td>25.0</td>\n",
       "      <td>NaN</td>\n",
       "    </tr>\n",
       "    <tr>\n",
       "      <th>pay</th>\n",
       "      <td>24.0</td>\n",
       "      <td>11.657905</td>\n",
       "    </tr>\n",
       "    <tr>\n",
       "      <th>boys</th>\n",
       "      <td>24.0</td>\n",
       "      <td>NaN</td>\n",
       "    </tr>\n",
       "    <tr>\n",
       "      <th>20</th>\n",
       "      <td>NaN</td>\n",
       "      <td>10.156783</td>\n",
       "    </tr>\n",
       "    <tr>\n",
       "      <th>augusta</th>\n",
       "      <td>NaN</td>\n",
       "      <td>10.054043</td>\n",
       "    </tr>\n",
       "  </tbody>\n",
       "</table>\n",
       "</div>"
      ],
      "text/plain": [
       "                  0          1\n",
       "shine         560.0  96.182752\n",
       "looks         143.0  39.276772\n",
       "feed          121.0  34.215720\n",
       "figure         91.0  28.322361\n",
       "fighting       84.0  27.203960\n",
       "explorist      71.0  24.345841\n",
       "fl             57.0  17.475491\n",
       "exports        47.0  14.163197\n",
       "added          43.0  14.118537\n",
       "collaborated   36.0  13.954623\n",
       "calendar       31.0  10.943987\n",
       "single         30.0  11.677608\n",
       "met            29.0  12.110098\n",
       "extra          29.0  12.033046\n",
       "binge          28.0  10.331351\n",
       "receiving      27.0  10.621959\n",
       "etiquette      27.0  10.613149\n",
       "automotive     25.0        NaN\n",
       "pay            24.0  11.657905\n",
       "boys           24.0        NaN\n",
       "20              NaN  10.156783\n",
       "augusta         NaN  10.054043"
      ]
     },
     "execution_count": 85,
     "metadata": {},
     "output_type": "execute_result"
    }
   ],
   "source": [
    "pd.DataFrame([top_title_words_c, top_title_words_tf]).T"
   ]
  },
  {
   "cell_type": "markdown",
   "metadata": {},
   "source": [
    "The top 10 title words are the same between both vectorizers but the TF-IDF made \"20\" and \"augusta\" of interest while lowering the importance of \"automotive\" and \"boys\". \"met\", \"pay\", and \"extra\" became more of interest than \"calendar\", \"single\". "
   ]
  },
  {
   "cell_type": "code",
   "execution_count": 86,
   "metadata": {},
   "outputs": [
    {
     "data": {
      "text/html": [
       "<div>\n",
       "<style scoped>\n",
       "    .dataframe tbody tr th:only-of-type {\n",
       "        vertical-align: middle;\n",
       "    }\n",
       "\n",
       "    .dataframe tbody tr th {\n",
       "        vertical-align: top;\n",
       "    }\n",
       "\n",
       "    .dataframe thead th {\n",
       "        text-align: right;\n",
       "    }\n",
       "</style>\n",
       "<table border=\"1\" class=\"dataframe\">\n",
       "  <thead>\n",
       "    <tr style=\"text-align: right;\">\n",
       "      <th></th>\n",
       "      <th>0</th>\n",
       "      <th>1</th>\n",
       "    </tr>\n",
       "  </thead>\n",
       "  <tbody>\n",
       "    <tr>\n",
       "      <th>electro</th>\n",
       "      <td>505.0</td>\n",
       "      <td>34.715441</td>\n",
       "    </tr>\n",
       "    <tr>\n",
       "      <th>advertised</th>\n",
       "      <td>376.0</td>\n",
       "      <td>29.653051</td>\n",
       "    </tr>\n",
       "    <tr>\n",
       "      <th>fucking</th>\n",
       "      <td>365.0</td>\n",
       "      <td>29.457742</td>\n",
       "    </tr>\n",
       "    <tr>\n",
       "      <th>oregon</th>\n",
       "      <td>271.0</td>\n",
       "      <td>24.700624</td>\n",
       "    </tr>\n",
       "    <tr>\n",
       "      <th>gender</th>\n",
       "      <td>262.0</td>\n",
       "      <td>20.376762</td>\n",
       "    </tr>\n",
       "    <tr>\n",
       "      <th>geocachingnsw</th>\n",
       "      <td>253.0</td>\n",
       "      <td>18.942764</td>\n",
       "    </tr>\n",
       "    <tr>\n",
       "      <th>tutorials</th>\n",
       "      <td>250.0</td>\n",
       "      <td>20.429052</td>\n",
       "    </tr>\n",
       "    <tr>\n",
       "      <th>matlab</th>\n",
       "      <td>220.0</td>\n",
       "      <td>17.671167</td>\n",
       "    </tr>\n",
       "    <tr>\n",
       "      <th>fork</th>\n",
       "      <td>186.0</td>\n",
       "      <td>16.223027</td>\n",
       "    </tr>\n",
       "    <tr>\n",
       "      <th>2017</th>\n",
       "      <td>176.0</td>\n",
       "      <td>18.252320</td>\n",
       "    </tr>\n",
       "    <tr>\n",
       "      <th>em</th>\n",
       "      <td>173.0</td>\n",
       "      <td>15.973496</td>\n",
       "    </tr>\n",
       "    <tr>\n",
       "      <th>ol</th>\n",
       "      <td>173.0</td>\n",
       "      <td>17.613669</td>\n",
       "    </tr>\n",
       "    <tr>\n",
       "      <th>haha</th>\n",
       "      <td>154.0</td>\n",
       "      <td>14.821731</td>\n",
       "    </tr>\n",
       "    <tr>\n",
       "      <th>21</th>\n",
       "      <td>148.0</td>\n",
       "      <td>12.800917</td>\n",
       "    </tr>\n",
       "    <tr>\n",
       "      <th>mainly</th>\n",
       "      <td>145.0</td>\n",
       "      <td>13.066385</td>\n",
       "    </tr>\n",
       "    <tr>\n",
       "      <th>mladen</th>\n",
       "      <td>143.0</td>\n",
       "      <td>17.776934</td>\n",
       "    </tr>\n",
       "    <tr>\n",
       "      <th>distractible</th>\n",
       "      <td>141.0</td>\n",
       "      <td>13.402571</td>\n",
       "    </tr>\n",
       "    <tr>\n",
       "      <th>intonation</th>\n",
       "      <td>140.0</td>\n",
       "      <td>15.262113</td>\n",
       "    </tr>\n",
       "    <tr>\n",
       "      <th>openly</th>\n",
       "      <td>137.0</td>\n",
       "      <td>13.070319</td>\n",
       "    </tr>\n",
       "    <tr>\n",
       "      <th>worlds</th>\n",
       "      <td>137.0</td>\n",
       "      <td>NaN</td>\n",
       "    </tr>\n",
       "    <tr>\n",
       "      <th>wheel</th>\n",
       "      <td>NaN</td>\n",
       "      <td>13.181590</td>\n",
       "    </tr>\n",
       "  </tbody>\n",
       "</table>\n",
       "</div>"
      ],
      "text/plain": [
       "                   0          1\n",
       "electro        505.0  34.715441\n",
       "advertised     376.0  29.653051\n",
       "fucking        365.0  29.457742\n",
       "oregon         271.0  24.700624\n",
       "gender         262.0  20.376762\n",
       "geocachingnsw  253.0  18.942764\n",
       "tutorials      250.0  20.429052\n",
       "matlab         220.0  17.671167\n",
       "fork           186.0  16.223027\n",
       "2017           176.0  18.252320\n",
       "em             173.0  15.973496\n",
       "ol             173.0  17.613669\n",
       "haha           154.0  14.821731\n",
       "21             148.0  12.800917\n",
       "mainly         145.0  13.066385\n",
       "mladen         143.0  17.776934\n",
       "distractible   141.0  13.402571\n",
       "intonation     140.0  15.262113\n",
       "openly         137.0  13.070319\n",
       "worlds         137.0        NaN\n",
       "wheel            NaN  13.181590"
      ]
     },
     "execution_count": 86,
     "metadata": {},
     "output_type": "execute_result"
    }
   ],
   "source": [
    "pd.DataFrame([top_text_words_c, top_text_words_tf]).T"
   ]
  },
  {
   "cell_type": "markdown",
   "metadata": {},
   "source": [
    "The top text words had more movement in terms of importance from CountVectorizer to TF-IDF, but only one new word difference between the two top lists. The top 5 remained the same. \"geocachingnsw\" and \"tutorials\" changed places.\n",
    "\n",
    "For performance reasons, I am choosing to use TF-IDF as a preprocessing vectorizer over CountVectorizer."
   ]
  },
  {
   "cell_type": "markdown",
   "metadata": {},
   "source": [
    "### Test out different parameters for TF-IDF using GridSearchCV and the MultinomialNB"
   ]
  },
  {
   "cell_type": "markdown",
   "metadata": {},
   "source": [
    "### Title TF-IDF\n",
    "\n",
    "Create a pipeline and GridSearch over the best parameters."
   ]
  },
  {
   "cell_type": "code",
   "execution_count": 87,
   "metadata": {
    "scrolled": false
   },
   "outputs": [],
   "source": [
    "pipeline = Pipeline([\n",
    "    ('tvec', TfidfVectorizer()),\n",
    "    ('model', MultinomialNB())\n",
    "])"
   ]
  },
  {
   "cell_type": "code",
   "execution_count": 88,
   "metadata": {},
   "outputs": [],
   "source": [
    "params = {\n",
    "    'tvec__stop_words': ['english', custom_stopwords],\n",
    "    'tvec__analyzer': ['word', preprocess],\n",
    "    'tvec__max_df': [250, 500, 750],\n",
    "    'tvec__min_df': [1, 2, 3],\n",
    "    'tvec__ngram_range': [(1, 1), (1, 3)]\n",
    "}"
   ]
  },
  {
   "cell_type": "code",
   "execution_count": 89,
   "metadata": {},
   "outputs": [
    {
     "data": {
      "text/plain": [
       "GridSearchCV(cv=5, error_score='raise',\n",
       "       estimator=Pipeline(memory=None,\n",
       "     steps=[('tvec', TfidfVectorizer(analyzer='word', binary=False, decode_error='strict',\n",
       "        dtype=<class 'numpy.int64'>, encoding='utf-8', input='content',\n",
       "        lowercase=True, max_df=1.0, max_features=None, min_df=1,\n",
       "        ngram_range=(1, 1), norm='l2', preprocessor=None, smooth_idf=True,\n",
       "  ...e,\n",
       "        vocabulary=None)), ('model', MultinomialNB(alpha=1.0, class_prior=None, fit_prior=True))]),\n",
       "       fit_params=None, iid=True, n_jobs=1,\n",
       "       param_grid={'tvec__stop_words': ['english', ['found', 'ourselves', 'itself', 'that', 'his', 'hers', 'she', \"don't\", 'yourselves', 'find', 'about', 'if', 'beyond', 'thus', 'formerly', 'during', 'six', \"doesn't\", 'after', 'themselves', 'shan', \"you'd\", 'for', \"haven't\", 'weren', 'least', 'whom', 'coul..., 'tvec__max_df': [250, 500, 750], 'tvec__min_df': [1, 2, 3], 'tvec__ngram_range': [(1, 1), (1, 3)]},\n",
       "       pre_dispatch='2*n_jobs', refit=True, return_train_score='warn',\n",
       "       scoring=None, verbose=0)"
      ]
     },
     "execution_count": 89,
     "metadata": {},
     "output_type": "execute_result"
    }
   ],
   "source": [
    "gs = GridSearchCV(pipeline, param_grid=params, cv=5)\n",
    "gs.fit(X_train['title'], y_train)"
   ]
  },
  {
   "cell_type": "code",
   "execution_count": 90,
   "metadata": {},
   "outputs": [
    {
     "data": {
      "text/plain": [
       "0.9497991967871486"
      ]
     },
     "execution_count": 90,
     "metadata": {},
     "output_type": "execute_result"
    }
   ],
   "source": [
    "gs.best_score_"
   ]
  },
  {
   "cell_type": "markdown",
   "metadata": {},
   "source": [
    "Best score on titles: 0.950"
   ]
  },
  {
   "cell_type": "code",
   "execution_count": 91,
   "metadata": {},
   "outputs": [],
   "source": [
    "# Commented out because best parameters is long\n",
    "# gs.best_params_"
   ]
  },
  {
   "cell_type": "markdown",
   "metadata": {},
   "source": [
    "Best parameters on titles:\n",
    "\n",
    "`{'tvec__analyzer': 'word',\n",
    " 'tvec__max_df': 500,\n",
    " 'tvec__min_df': 1,\n",
    " 'tvec__ngram_range': (1, 3),\n",
    " 'tvec__stop_words': custom_stopwords}`"
   ]
  },
  {
   "cell_type": "code",
   "execution_count": 92,
   "metadata": {},
   "outputs": [],
   "source": [
    "model = gs.best_estimator_"
   ]
  },
  {
   "cell_type": "code",
   "execution_count": 93,
   "metadata": {},
   "outputs": [
    {
     "data": {
      "text/plain": [
       "0.8937875751503006"
      ]
     },
     "execution_count": 93,
     "metadata": {},
     "output_type": "execute_result"
    }
   ],
   "source": [
    "model.score(X_test['title'], y_test)"
   ]
  },
  {
   "cell_type": "markdown",
   "metadata": {},
   "source": [
    "There is a 10% drop in accuracy score from training to testing sets, indicating some amount of overfitting and high variance."
   ]
  },
  {
   "cell_type": "markdown",
   "metadata": {},
   "source": [
    "#### Best TF-IDF\n",
    "Using these parameters, fit and transform the title corpus."
   ]
  },
  {
   "cell_type": "code",
   "execution_count": 15,
   "metadata": {},
   "outputs": [],
   "source": [
    "best_tvec = TfidfVectorizer(analyzer='word', max_df=500, min_df=1, ngram_range=(1,3), stop_words=custom_stopwords)"
   ]
  },
  {
   "cell_type": "code",
   "execution_count": 16,
   "metadata": {},
   "outputs": [],
   "source": [
    "# Fit and transform the Training Titles\n",
    "best_title_tf = best_tvec.fit_transform(X_train['title'])\n",
    "\n",
    "# Put into a dataframe in order to feed into a model\n",
    "best_title_X_train = pd.DataFrame(best_title_tf.todense(), columns=best_tvec.vocabulary_)"
   ]
  },
  {
   "cell_type": "code",
   "execution_count": 17,
   "metadata": {},
   "outputs": [],
   "source": [
    "# Just transform the Testing Titles\n",
    "best_title_tf2 = best_tvec.transform(X_test['title'])\n",
    "\n",
    "# Put into a dataframe to feed into model\n",
    "best_title_X_test = pd.DataFrame(best_title_tf2.todense(), columns=best_tvec.vocabulary_)"
   ]
  },
  {
   "cell_type": "markdown",
   "metadata": {},
   "source": [
    "### Text TF-IDF\n",
    "\n",
    "Create a pipeline and GridSearch over the best parameters."
   ]
  },
  {
   "cell_type": "code",
   "execution_count": 97,
   "metadata": {
    "scrolled": false
   },
   "outputs": [],
   "source": [
    "pipeline = Pipeline([\n",
    "    ('tvec', TfidfVectorizer()),\n",
    "    ('model', MultinomialNB())\n",
    "])"
   ]
  },
  {
   "cell_type": "code",
   "execution_count": 98,
   "metadata": {},
   "outputs": [],
   "source": [
    "params = {\n",
    "    'tvec__stop_words': ['english', custom_stopwords],\n",
    "    'tvec__analyzer': ['word'],\n",
    "    'tvec__max_df': [250, 500, 750],\n",
    "    'tvec__min_df': [3, 4, 5],\n",
    "    'tvec__ngram_range': [(1, 1)]\n",
    "}"
   ]
  },
  {
   "cell_type": "code",
   "execution_count": 99,
   "metadata": {},
   "outputs": [
    {
     "data": {
      "text/plain": [
       "GridSearchCV(cv=5, error_score='raise',\n",
       "       estimator=Pipeline(memory=None,\n",
       "     steps=[('tvec', TfidfVectorizer(analyzer='word', binary=False, decode_error='strict',\n",
       "        dtype=<class 'numpy.int64'>, encoding='utf-8', input='content',\n",
       "        lowercase=True, max_df=1.0, max_features=None, min_df=1,\n",
       "        ngram_range=(1, 1), norm='l2', preprocessor=None, smooth_idf=True,\n",
       "  ...e,\n",
       "        vocabulary=None)), ('model', MultinomialNB(alpha=1.0, class_prior=None, fit_prior=True))]),\n",
       "       fit_params=None, iid=True, n_jobs=1,\n",
       "       param_grid={'tvec__stop_words': ['english', ['found', 'ourselves', 'itself', 'that', 'his', 'hers', 'she', \"don't\", 'yourselves', 'find', 'about', 'if', 'beyond', 'thus', 'formerly', 'during', 'six', \"doesn't\", 'after', 'themselves', 'shan', \"you'd\", 'for', \"haven't\", 'weren', 'least', 'whom', 'coul...['word'], 'tvec__max_df': [250, 500, 750], 'tvec__min_df': [3, 4, 5], 'tvec__ngram_range': [(1, 1)]},\n",
       "       pre_dispatch='2*n_jobs', refit=True, return_train_score='warn',\n",
       "       scoring=None, verbose=0)"
      ]
     },
     "execution_count": 99,
     "metadata": {},
     "output_type": "execute_result"
    }
   ],
   "source": [
    "gs = GridSearchCV(pipeline, param_grid=params, cv=5)\n",
    "gs.fit(X_train['text'], y_train)"
   ]
  },
  {
   "cell_type": "code",
   "execution_count": 100,
   "metadata": {},
   "outputs": [
    {
     "data": {
      "text/plain": [
       "0.9183400267737617"
      ]
     },
     "execution_count": 100,
     "metadata": {},
     "output_type": "execute_result"
    }
   ],
   "source": [
    "gs.best_score_"
   ]
  },
  {
   "cell_type": "markdown",
   "metadata": {},
   "source": [
    "Best score on text: 0.918"
   ]
  },
  {
   "cell_type": "code",
   "execution_count": 101,
   "metadata": {},
   "outputs": [],
   "source": [
    "# Commented out because best parameters is long\n",
    "# gs.best_params_"
   ]
  },
  {
   "cell_type": "code",
   "execution_count": 102,
   "metadata": {},
   "outputs": [],
   "source": [
    "model = gs.best_estimator_"
   ]
  },
  {
   "cell_type": "code",
   "execution_count": 103,
   "metadata": {},
   "outputs": [
    {
     "data": {
      "text/plain": [
       "0.9178356713426854"
      ]
     },
     "execution_count": 103,
     "metadata": {},
     "output_type": "execute_result"
    }
   ],
   "source": [
    "model.score(X_test['text'], y_test)"
   ]
  },
  {
   "cell_type": "markdown",
   "metadata": {},
   "source": [
    "Best parameters on text:\n",
    "\n",
    "`{'tvec__analyzer': 'word',\n",
    " 'tvec__max_df': 500,\n",
    " 'tvec__min_df': 4,\n",
    " 'tvec__ngram_range': (1, 1),\n",
    " 'tvec__stop_words': 'custom_stopwords'}`\n",
    " \n",
    " By comparison between the two GridSearches, we see that though they differ in max_df, min_df, and ngram range both can agree on the use of the default `'word'` analyzer and the use of 'na' as the only stopword. However, I am still going to use the custom_stopwords to limit the number of word features."
   ]
  },
  {
   "cell_type": "markdown",
   "metadata": {},
   "source": [
    "#### Best TF-IDF\n",
    "Using these parameters, fit and transform the text corpus."
   ]
  },
  {
   "cell_type": "code",
   "execution_count": 18,
   "metadata": {},
   "outputs": [],
   "source": [
    "best_tvec = TfidfVectorizer(analyzer='word', max_df=500, ngram_range=(1,1), min_df= 4, stop_words=custom_stopwords)"
   ]
  },
  {
   "cell_type": "code",
   "execution_count": 19,
   "metadata": {},
   "outputs": [],
   "source": [
    "# Fit and transform the Training Text\n",
    "best_text_tf = best_tvec.fit_transform(X_train['text'])\n",
    "\n",
    "# Make into dataframe for modeling\n",
    "best_text_X_train = pd.DataFrame(best_text_tf.todense(), columns=best_tvec.vocabulary_)"
   ]
  },
  {
   "cell_type": "code",
   "execution_count": 20,
   "metadata": {},
   "outputs": [],
   "source": [
    "# Transform the Testing Text\n",
    "best_text_tf2 = best_tvec.transform(X_test['text'])\n",
    "\n",
    "# Make into dataframe for modeling\n",
    "best_text_X_test = pd.DataFrame(best_text_tf2.todense(), columns=best_tvec.vocabulary_)"
   ]
  },
  {
   "cell_type": "markdown",
   "metadata": {},
   "source": [
    "### Combine the vectorized Title and Text tables into one table of features"
   ]
  },
  {
   "cell_type": "code",
   "execution_count": 21,
   "metadata": {},
   "outputs": [],
   "source": [
    "X_train_corpus = pd.concat([best_title_X_train, best_text_X_train], axis=1)"
   ]
  },
  {
   "cell_type": "code",
   "execution_count": 22,
   "metadata": {},
   "outputs": [
    {
     "data": {
      "text/plain": [
       "(1494, 13544)"
      ]
     },
     "execution_count": 22,
     "metadata": {},
     "output_type": "execute_result"
    }
   ],
   "source": [
    "X_train_corpus.shape"
   ]
  },
  {
   "cell_type": "code",
   "execution_count": 23,
   "metadata": {},
   "outputs": [],
   "source": [
    "X_test_corpus = pd.concat([best_title_X_test, best_text_X_test], axis=1)"
   ]
  },
  {
   "cell_type": "code",
   "execution_count": 24,
   "metadata": {},
   "outputs": [
    {
     "data": {
      "text/plain": [
       "(499, 13544)"
      ]
     },
     "execution_count": 24,
     "metadata": {},
     "output_type": "execute_result"
    }
   ],
   "source": [
    "X_test_corpus.shape"
   ]
  },
  {
   "cell_type": "markdown",
   "metadata": {
    "focus": false,
    "id": "04563b69-f7b6-466f-9d65-fc62c9ddee6a"
   },
   "source": [
    "# Predicting subreddits"
   ]
  },
  {
   "cell_type": "markdown",
   "metadata": {
    "focus": false,
    "id": "a7afb2c0-d41e-4779-8216-91cd8dd4473f"
   },
   "source": [
    "#### The baseline accuracy for this model is the percentage of the majority class on the dataset."
   ]
  },
  {
   "cell_type": "code",
   "execution_count": 194,
   "metadata": {
    "focus": false,
    "id": "87a17d3d-b7f4-4747-9f75-f9af1d18a174"
   },
   "outputs": [
    {
     "data": {
      "text/plain": [
       "geocaching      0.501254\n",
       "IWantToLearn    0.498746\n",
       "Name: subreddit, dtype: float64"
      ]
     },
     "execution_count": 194,
     "metadata": {},
     "output_type": "execute_result"
    }
   ],
   "source": [
    "df['subreddit'].value_counts(normalize=True)"
   ]
  },
  {
   "cell_type": "markdown",
   "metadata": {},
   "source": [
    "What this means is that we expect the model to have at least an accuracy of 50% to be better than random guessing."
   ]
  },
  {
   "cell_type": "markdown",
   "metadata": {
    "focus": false,
    "id": "4fb29de2-5b98-474c-a4ad-5170b72b9aea"
   },
   "source": [
    "## Testing on a single model: Random Forests\n",
    "\n",
    "#### Using a `RandomForestClassifier` model to predict which subreddit a given post belongs to."
   ]
  },
  {
   "cell_type": "code",
   "execution_count": 25,
   "metadata": {
    "focus": false,
    "id": "588f9845-6143-4bcc-bfd1-85d45b79303d"
   },
   "outputs": [
    {
     "data": {
      "text/plain": [
       "RandomForestClassifier(bootstrap=True, class_weight=None, criterion='gini',\n",
       "            max_depth=None, max_features='auto', max_leaf_nodes=None,\n",
       "            min_impurity_decrease=0.0, min_impurity_split=None,\n",
       "            min_samples_leaf=1, min_samples_split=2,\n",
       "            min_weight_fraction_leaf=0.0, n_estimators=10, n_jobs=1,\n",
       "            oob_score=False, random_state=42, verbose=0, warm_start=False)"
      ]
     },
     "execution_count": 25,
     "metadata": {},
     "output_type": "execute_result"
    }
   ],
   "source": [
    "# Instantiate\n",
    "rf = RandomForestClassifier(random_state=42)\n",
    "\n",
    "rf.fit(X_train_corpus, y_train)"
   ]
  },
  {
   "cell_type": "code",
   "execution_count": 26,
   "metadata": {
    "focus": false,
    "id": "c20d2498-151c-44c3-a453-3a333c79a0ac"
   },
   "outputs": [
    {
     "data": {
      "text/plain": [
       "0.9819277108433735"
      ]
     },
     "execution_count": 26,
     "metadata": {},
     "output_type": "execute_result"
    }
   ],
   "source": [
    "rf.score(X_train_corpus, y_train)"
   ]
  },
  {
   "cell_type": "code",
   "execution_count": 27,
   "metadata": {},
   "outputs": [
    {
     "data": {
      "text/plain": [
       "0.8717434869739479"
      ]
     },
     "execution_count": 27,
     "metadata": {},
     "output_type": "execute_result"
    }
   ],
   "source": [
    "rf.score(X_test_corpus, y_test)"
   ]
  },
  {
   "cell_type": "markdown",
   "metadata": {},
   "source": [
    "With all the model defaults, a Random Forest Classifier performs pretty highly. We can see evidence of overfitting in the drop in accuracy from the training set (accuracy 0.9819) to the test set (0.8717). "
   ]
  },
  {
   "cell_type": "markdown",
   "metadata": {},
   "source": [
    "# Model Pipeline\n",
    "\n",
    "Picked one ensemble model (Random Forest Classifier), a Naive-Bayes model (Multinomial), and Logistic Regression."
   ]
  },
  {
   "cell_type": "markdown",
   "metadata": {},
   "source": [
    "### Hyperparameter dictionary of all the models and specific tunings"
   ]
  },
  {
   "cell_type": "code",
   "execution_count": 28,
   "metadata": {},
   "outputs": [],
   "source": [
    "estimators = {\n",
    "\n",
    "    # Random Forest\n",
    "    'rf': {\n",
    "        'estimator': RandomForestClassifier(),\n",
    "        'params': {\n",
    "            'rf__random_state': [42],\n",
    "            'rf__n_estimators': [8, 9, 10],\n",
    "            'rf__max_features': [2500, 5000],\n",
    "            'rf__criterion': ['gini', 'entropy']\n",
    "        }\n",
    "    },\n",
    "\n",
    "    # Logistic Regression\n",
    "    'lr': {\n",
    "        'estimator': LogisticRegression(),\n",
    "        'params': {\n",
    "            'lr__random_state': [42],\n",
    "            'lr__C': [0.8, 0.9, 1.0],\n",
    "        }\n",
    "    },\n",
    "\n",
    "    # Multinomial Naive-Bayes\n",
    "    'multinb': {\n",
    "        'estimator': MultinomialNB(),\n",
    "        'params': {\n",
    "            'multinb__alpha': [0.01, 0.1, 0.5]\n",
    "        }\n",
    "    }\n",
    "}"
   ]
  },
  {
   "cell_type": "markdown",
   "metadata": {},
   "source": [
    "### GridSearch"
   ]
  },
  {
   "cell_type": "code",
   "execution_count": 29,
   "metadata": {},
   "outputs": [
    {
     "name": "stdout",
     "output_type": "stream",
     "text": [
      "Running GrideSearch for Estimator  rf\n",
      "Fitting 5 folds for each of 12 candidates, totalling 60 fits\n"
     ]
    },
    {
     "name": "stderr",
     "output_type": "stream",
     "text": [
      "[Parallel(n_jobs=-1)]: Done  34 tasks      | elapsed:   19.7s\n",
      "[Parallel(n_jobs=-1)]: Done  60 out of  60 | elapsed:   32.1s finished\n"
     ]
    },
    {
     "name": "stdout",
     "output_type": "stream",
     "text": [
      "Done fitting:  rf\n",
      "--------------------\n",
      "Running GrideSearch for Estimator  lr\n",
      "Fitting 5 folds for each of 3 candidates, totalling 15 fits\n"
     ]
    },
    {
     "name": "stderr",
     "output_type": "stream",
     "text": [
      "[Parallel(n_jobs=-1)]: Done  15 out of  15 | elapsed:    7.0s finished\n"
     ]
    },
    {
     "name": "stdout",
     "output_type": "stream",
     "text": [
      "Done fitting:  lr\n",
      "--------------------\n",
      "Running GrideSearch for Estimator  multinb\n",
      "Fitting 5 folds for each of 3 candidates, totalling 15 fits\n"
     ]
    },
    {
     "name": "stderr",
     "output_type": "stream",
     "text": [
      "[Parallel(n_jobs=-1)]: Done  15 out of  15 | elapsed:    6.1s finished\n"
     ]
    },
    {
     "name": "stdout",
     "output_type": "stream",
     "text": [
      "Done fitting:  multinb\n",
      "--------------------\n",
      "GridSearch complete\n"
     ]
    }
   ],
   "source": [
    "# Make an empty dataframe of fitted models \n",
    "fitted_models = {}\n",
    "\n",
    "# Loop through models in pipelines, tuning each one with its parameter dictionary\n",
    "for step, config in estimators.items():\n",
    "    pipe = Pipeline(\n",
    "        steps = [\n",
    "            (step, config['estimator'])\n",
    "        ]\n",
    "    )\n",
    "    # Create GridSearch object for each model\n",
    "    model = GridSearchCV(pipe, param_grid=config['params'], cv=5, n_jobs=-1, verbose=1)\n",
    "    print('Running GrideSearch for Estimator ', step)\n",
    "    \n",
    "    # Fit each model and store it in the fitted models dataframe along with score\n",
    "    fitted_models[step] = model.fit(X_train_corpus, y_train)\n",
    "    \n",
    "    # Indicators on progress\n",
    "    print('Done fitting: ', step)\n",
    "    print('--------------------')\n",
    "\n",
    "print('GridSearch complete')"
   ]
  },
  {
   "cell_type": "code",
   "execution_count": 30,
   "metadata": {
    "scrolled": true
   },
   "outputs": [
    {
     "name": "stdout",
     "output_type": "stream",
     "text": [
      "rf\n",
      "Training data score:  0.8835341365461847\n",
      "Testing data score:   0.8797595190380761\n",
      "Best Hyperparameters: {'rf__criterion': 'gini', 'rf__max_features': 5000, 'rf__n_estimators': 9, 'rf__random_state': 42}\n",
      "\n",
      "lr\n",
      "Training data score:  0.9149933065595717\n",
      "Testing data score:   0.935871743486974\n",
      "Best Hyperparameters: {'lr__C': 1.0, 'lr__random_state': 42}\n",
      "\n",
      "multinb\n",
      "Training data score:  0.9544846050870147\n",
      "Testing data score:   0.9819639278557114\n",
      "Best Hyperparameters: {'multinb__alpha': 0.1}\n",
      "\n"
     ]
    }
   ],
   "source": [
    "for model in fitted_models:\n",
    "    print(model)\n",
    "    print('Training data score: ', fitted_models[model].best_score_)\n",
    "    best_model = fitted_models[model].best_estimator_\n",
    "    print('Testing data score:  ', best_model.score(X_test_corpus, y_test))\n",
    "    print('Best Hyperparameters:', fitted_models[model].best_params_)\n",
    "    print('')"
   ]
  },
  {
   "cell_type": "markdown",
   "metadata": {},
   "source": [
    "#### Random Forest Classifier\n",
    "\n",
    "Best score 0.8835 and 0.8797 on testing set. The two accuracies are a lot closer than the Random Forest Classifier with the default hyperparameters selected. It indicates not too much overfitting, though score faired worse than default hyperparameter model."
   ]
  },
  {
   "cell_type": "markdown",
   "metadata": {},
   "source": [
    "#### Logistic Regression \n",
    "\n",
    "Best score 0.9149 and 0.9358 on the testing set. While it is not as high as the Multinomial NB model it does perform better than the Random Forest Classifier. "
   ]
  },
  {
   "cell_type": "markdown",
   "metadata": {},
   "source": [
    "#### Multinomial NB\n",
    "\n",
    "Best score 0.9544 and 0.9819 on testing set. This is better than the Random Forest Ensemble model and the logistic regression model. There is not strong evidence of overfitting."
   ]
  },
  {
   "cell_type": "markdown",
   "metadata": {},
   "source": [
    "## Picking the best model"
   ]
  },
  {
   "cell_type": "markdown",
   "metadata": {},
   "source": [
    "The Multinomial Naive-Bayes model with an alpha of 0.1 scored the highest of the three models as well as performing better on the testing set, demonstrating it is not overfit. "
   ]
  },
  {
   "cell_type": "code",
   "execution_count": 39,
   "metadata": {},
   "outputs": [],
   "source": [
    "best_multinb = fitted_models['multinb'].best_estimator_"
   ]
  },
  {
   "cell_type": "markdown",
   "metadata": {},
   "source": [
    "### Examine the feature words"
   ]
  },
  {
   "cell_type": "code",
   "execution_count": 132,
   "metadata": {},
   "outputs": [
    {
     "data": {
      "text/html": [
       "<div>\n",
       "<style scoped>\n",
       "    .dataframe tbody tr th:only-of-type {\n",
       "        vertical-align: middle;\n",
       "    }\n",
       "\n",
       "    .dataframe tbody tr th {\n",
       "        vertical-align: top;\n",
       "    }\n",
       "\n",
       "    .dataframe thead th {\n",
       "        text-align: right;\n",
       "    }\n",
       "</style>\n",
       "<table border=\"1\" class=\"dataframe\">\n",
       "  <thead>\n",
       "    <tr style=\"text-align: right;\">\n",
       "      <th></th>\n",
       "      <th>0</th>\n",
       "      <th>1</th>\n",
       "      <th>geocaching_odds_ratio</th>\n",
       "      <th>IWTL_odds_ratio</th>\n",
       "    </tr>\n",
       "  </thead>\n",
       "  <tbody>\n",
       "    <tr>\n",
       "      <th>problem</th>\n",
       "      <td>-5.285602</td>\n",
       "      <td>-11.039483</td>\n",
       "      <td>0.005064</td>\n",
       "      <td>0.000016</td>\n",
       "    </tr>\n",
       "    <tr>\n",
       "      <th>western</th>\n",
       "      <td>-5.347708</td>\n",
       "      <td>-11.039483</td>\n",
       "      <td>0.004759</td>\n",
       "      <td>0.000016</td>\n",
       "    </tr>\n",
       "    <tr>\n",
       "      <th>practice</th>\n",
       "      <td>-5.426070</td>\n",
       "      <td>-11.039483</td>\n",
       "      <td>0.004400</td>\n",
       "      <td>0.000016</td>\n",
       "    </tr>\n",
       "    <tr>\n",
       "      <th>picked artist</th>\n",
       "      <td>-5.480850</td>\n",
       "      <td>-11.039483</td>\n",
       "      <td>0.004166</td>\n",
       "      <td>0.000016</td>\n",
       "    </tr>\n",
       "    <tr>\n",
       "      <th>example</th>\n",
       "      <td>-5.619318</td>\n",
       "      <td>-11.039483</td>\n",
       "      <td>0.003627</td>\n",
       "      <td>0.000016</td>\n",
       "    </tr>\n",
       "    <tr>\n",
       "      <th>geocache opportunity</th>\n",
       "      <td>-5.767993</td>\n",
       "      <td>-11.039483</td>\n",
       "      <td>0.003126</td>\n",
       "      <td>0.000016</td>\n",
       "    </tr>\n",
       "    <tr>\n",
       "      <th>planning</th>\n",
       "      <td>-6.229111</td>\n",
       "      <td>-11.039483</td>\n",
       "      <td>0.001971</td>\n",
       "      <td>0.000016</td>\n",
       "    </tr>\n",
       "    <tr>\n",
       "      <th>expect</th>\n",
       "      <td>-6.279403</td>\n",
       "      <td>-5.164352</td>\n",
       "      <td>0.001875</td>\n",
       "      <td>0.005717</td>\n",
       "    </tr>\n",
       "    <tr>\n",
       "      <th>giving</th>\n",
       "      <td>-6.316722</td>\n",
       "      <td>-7.199826</td>\n",
       "      <td>0.001806</td>\n",
       "      <td>0.000747</td>\n",
       "    </tr>\n",
       "    <tr>\n",
       "      <th>husband</th>\n",
       "      <td>-6.353125</td>\n",
       "      <td>-6.998159</td>\n",
       "      <td>0.001741</td>\n",
       "      <td>0.000914</td>\n",
       "    </tr>\n",
       "    <tr>\n",
       "      <th>psychotherapy methods better</th>\n",
       "      <td>-6.355349</td>\n",
       "      <td>-11.039483</td>\n",
       "      <td>0.001737</td>\n",
       "      <td>0.000016</td>\n",
       "    </tr>\n",
       "    <tr>\n",
       "      <th>iwtl software engineering</th>\n",
       "      <td>-6.413391</td>\n",
       "      <td>-11.039483</td>\n",
       "      <td>0.001639</td>\n",
       "      <td>0.000016</td>\n",
       "    </tr>\n",
       "    <tr>\n",
       "      <th>understand</th>\n",
       "      <td>-6.430172</td>\n",
       "      <td>-5.364344</td>\n",
       "      <td>0.001612</td>\n",
       "      <td>0.004681</td>\n",
       "    </tr>\n",
       "    <tr>\n",
       "      <th>cover</th>\n",
       "      <td>-6.499281</td>\n",
       "      <td>-6.330652</td>\n",
       "      <td>0.001505</td>\n",
       "      <td>0.001781</td>\n",
       "    </tr>\n",
       "    <tr>\n",
       "      <th>safe</th>\n",
       "      <td>-6.525615</td>\n",
       "      <td>-6.504727</td>\n",
       "      <td>0.001465</td>\n",
       "      <td>0.001496</td>\n",
       "    </tr>\n",
       "    <tr>\n",
       "      <th>ago</th>\n",
       "      <td>-6.535631</td>\n",
       "      <td>-7.893458</td>\n",
       "      <td>0.001451</td>\n",
       "      <td>0.000373</td>\n",
       "    </tr>\n",
       "    <tr>\n",
       "      <th>40</th>\n",
       "      <td>-6.556699</td>\n",
       "      <td>-6.465053</td>\n",
       "      <td>0.001421</td>\n",
       "      <td>0.001557</td>\n",
       "    </tr>\n",
       "    <tr>\n",
       "      <th>damage</th>\n",
       "      <td>-6.571944</td>\n",
       "      <td>-6.557562</td>\n",
       "      <td>0.001399</td>\n",
       "      <td>0.001419</td>\n",
       "    </tr>\n",
       "    <tr>\n",
       "      <th>membership</th>\n",
       "      <td>-6.612264</td>\n",
       "      <td>-9.660827</td>\n",
       "      <td>0.001344</td>\n",
       "      <td>0.000064</td>\n",
       "    </tr>\n",
       "    <tr>\n",
       "      <th>right</th>\n",
       "      <td>-6.620329</td>\n",
       "      <td>-11.039483</td>\n",
       "      <td>0.001333</td>\n",
       "      <td>0.000016</td>\n",
       "    </tr>\n",
       "  </tbody>\n",
       "</table>\n",
       "</div>"
      ],
      "text/plain": [
       "                                     0          1  geocaching_odds_ratio  \\\n",
       "problem                      -5.285602 -11.039483               0.005064   \n",
       "western                      -5.347708 -11.039483               0.004759   \n",
       "practice                     -5.426070 -11.039483               0.004400   \n",
       "picked artist                -5.480850 -11.039483               0.004166   \n",
       "example                      -5.619318 -11.039483               0.003627   \n",
       "geocache opportunity         -5.767993 -11.039483               0.003126   \n",
       "planning                     -6.229111 -11.039483               0.001971   \n",
       "expect                       -6.279403  -5.164352               0.001875   \n",
       "giving                       -6.316722  -7.199826               0.001806   \n",
       "husband                      -6.353125  -6.998159               0.001741   \n",
       "psychotherapy methods better -6.355349 -11.039483               0.001737   \n",
       "iwtl software engineering    -6.413391 -11.039483               0.001639   \n",
       "understand                   -6.430172  -5.364344               0.001612   \n",
       "cover                        -6.499281  -6.330652               0.001505   \n",
       "safe                         -6.525615  -6.504727               0.001465   \n",
       "ago                          -6.535631  -7.893458               0.001451   \n",
       "40                           -6.556699  -6.465053               0.001421   \n",
       "damage                       -6.571944  -6.557562               0.001399   \n",
       "membership                   -6.612264  -9.660827               0.001344   \n",
       "right                        -6.620329 -11.039483               0.001333   \n",
       "\n",
       "                              IWTL_odds_ratio  \n",
       "problem                              0.000016  \n",
       "western                              0.000016  \n",
       "practice                             0.000016  \n",
       "picked artist                        0.000016  \n",
       "example                              0.000016  \n",
       "geocache opportunity                 0.000016  \n",
       "planning                             0.000016  \n",
       "expect                               0.005717  \n",
       "giving                               0.000747  \n",
       "husband                              0.000914  \n",
       "psychotherapy methods better         0.000016  \n",
       "iwtl software engineering            0.000016  \n",
       "understand                           0.004681  \n",
       "cover                                0.001781  \n",
       "safe                                 0.001496  \n",
       "ago                                  0.000373  \n",
       "40                                   0.001557  \n",
       "damage                               0.001419  \n",
       "membership                           0.000064  \n",
       "right                                0.000016  "
      ]
     },
     "execution_count": 132,
     "metadata": {},
     "output_type": "execute_result"
    }
   ],
   "source": [
    "from math import e\n",
    "\n",
    "# Get log probabilities of each feature from the best model (Multinomial NB)\n",
    "feature_probs = best_multinb.named_steps['multinb'].feature_log_prob_\n",
    "\n",
    "#Put in dataframe\n",
    "word_prob_table = pd.DataFrame(feature_probs, columns=X_train_corpus.columns).T\n",
    "word_prob_table['geocaching_odds_ratio'] = e**(word_prob_table[0])\n",
    "word_prob_table['IWTL_odds_ratio'] = e**(word_prob_table[1])\n",
    "\n",
    "# Look at the Top 20 words based on probability\n",
    "word_prob_table.sort_values('geocaching_odds_ratio', ascending=False).head(20)"
   ]
  },
  {
   "cell_type": "code",
   "execution_count": null,
   "metadata": {},
   "outputs": [],
   "source": []
  },
  {
   "cell_type": "markdown",
   "metadata": {},
   "source": [
    "So even though the odds ratios are small for each individual word, we can still see which ones have the most impact compared to others for classifying posts as either \"geocaching\" or \"IWantToLearn\". For \"IWantToLearn\", the top 5 words are \"expect\", \"common\", \"quite\", \"understand\", and \"dropped\". For classifying \"geocaching\", the top 5 words are \"problem\", \"western\", \"practice\", \"picked artist\" (a bi-gram!), and \"example\"."
   ]
  },
  {
   "cell_type": "code",
   "execution_count": 32,
   "metadata": {},
   "outputs": [],
   "source": [
    "y_pred = best_multinb.predict(X_test_corpus)"
   ]
  },
  {
   "cell_type": "code",
   "execution_count": 33,
   "metadata": {},
   "outputs": [],
   "source": [
    "y_proba = best_multinb.predict_proba(X_test_corpus)"
   ]
  },
  {
   "cell_type": "code",
   "execution_count": 34,
   "metadata": {},
   "outputs": [
    {
     "name": "stdout",
     "output_type": "stream",
     "text": [
      "             precision    recall  f1-score   support\n",
      "\n",
      "          0       0.98      0.98      0.98       250\n",
      "          1       0.98      0.98      0.98       249\n",
      "\n",
      "avg / total       0.98      0.98      0.98       499\n",
      "\n"
     ]
    }
   ],
   "source": [
    "print(classification_report(y_test, y_pred))"
   ]
  },
  {
   "cell_type": "code",
   "execution_count": 124,
   "metadata": {},
   "outputs": [
    {
     "name": "stdout",
     "output_type": "stream",
     "text": [
      "True Negatives:  246\n",
      "False Positives:  4\n",
      "False Negatives:  5\n",
      "True Positives:  244\n"
     ]
    }
   ],
   "source": [
    "# Examining the number of each\n",
    "tn, fp, fn, tp = confusion_matrix(y_test, y_pred).ravel()\n",
    "\n",
    "print('True Negatives: ', tn)\n",
    "print('False Positives: ', fp)\n",
    "print('False Negatives: ', fn)\n",
    "print('True Positives: ', tp)"
   ]
  },
  {
   "cell_type": "markdown",
   "metadata": {},
   "source": [
    "244 posts are correctly classified as IWantToLearn posts and 246 are correctly classified as geocaching posts. 4 were classified as IWantToLearn posts that were actually geocaching posts and 5 were actually IWantToLearn posts but were thought to be geocaching posts. Overall, this is pretty high performing. Both Type I and Type II errors are acceptable because the stakes in misclassification are fairly low, though accidentally classifying a post as an IWantToLearn post will garner more exposure as that subreddit is much, much larger than the geocaching one."
   ]
  },
  {
   "cell_type": "markdown",
   "metadata": {},
   "source": [
    "### ROC Curve"
   ]
  },
  {
   "cell_type": "code",
   "execution_count": 37,
   "metadata": {},
   "outputs": [
    {
     "data": {
      "image/png": "[encoded data removed]",
      "text/plain": [
       "<Figure size 576x576 with 1 Axes>"
      ]
     },
     "metadata": {},
     "output_type": "display_data"
    }
   ],
   "source": [
    "# Calculate False positive rate and True positive rate\n",
    "fpr, tpr, thresholds = roc_curve(y_test, y_pred)\n",
    "roc_auc = auc(fpr, tpr)\n",
    "\n",
    "# Plot \n",
    "fig = plt.figure(figsize=(8,8))\n",
    "\n",
    "plt.title('ROC Curve')\n",
    "line_width = 3\n",
    "\n",
    "plt.plot(fpr, tpr, color='darkorange', label='ROC Curve %.2f' %roc_auc)\n",
    "plt.plot([0,1], [0,1], lw = line_width, linestyle='--', color='navy')\n",
    "\n",
    "plt.xlim([0.0, 1.0])\n",
    "plt.ylim([0.0, 1.05])\n",
    "plt.xlabel('False Positive Rate', size=20)\n",
    "plt.ylabel('True Positive Rate', size=20)\n",
    "plt.title('ROC', size=24)\n",
    "plt.legend(loc=\"lower right\")\n",
    "plt.show()"
   ]
  },
  {
   "cell_type": "markdown",
   "metadata": {},
   "source": [
    "The Area under the ROC Curve is shown and we can visually see how well the model performs."
   ]
  },
  {
   "cell_type": "code",
   "execution_count": 137,
   "metadata": {},
   "outputs": [
    {
     "data": {
      "text/html": [
       "<div>\n",
       "<style scoped>\n",
       "    .dataframe tbody tr th:only-of-type {\n",
       "        vertical-align: middle;\n",
       "    }\n",
       "\n",
       "    .dataframe tbody tr th {\n",
       "        vertical-align: top;\n",
       "    }\n",
       "\n",
       "    .dataframe thead th {\n",
       "        text-align: right;\n",
       "    }\n",
       "</style>\n",
       "<table border=\"1\" class=\"dataframe\">\n",
       "  <thead>\n",
       "    <tr style=\"text-align: right;\">\n",
       "      <th></th>\n",
       "      <th>geocaching</th>\n",
       "      <th>IWTL</th>\n",
       "    </tr>\n",
       "  </thead>\n",
       "  <tbody>\n",
       "    <tr>\n",
       "      <th>0</th>\n",
       "      <td>9.767877e-01</td>\n",
       "      <td>0.023212</td>\n",
       "    </tr>\n",
       "    <tr>\n",
       "      <th>1</th>\n",
       "      <td>3.293178e-02</td>\n",
       "      <td>0.967068</td>\n",
       "    </tr>\n",
       "    <tr>\n",
       "      <th>2</th>\n",
       "      <td>9.991014e-01</td>\n",
       "      <td>0.000899</td>\n",
       "    </tr>\n",
       "    <tr>\n",
       "      <th>3</th>\n",
       "      <td>9.753886e-03</td>\n",
       "      <td>0.990246</td>\n",
       "    </tr>\n",
       "    <tr>\n",
       "      <th>4</th>\n",
       "      <td>9.979126e-01</td>\n",
       "      <td>0.002087</td>\n",
       "    </tr>\n",
       "    <tr>\n",
       "      <th>5</th>\n",
       "      <td>2.637035e-07</td>\n",
       "      <td>1.000000</td>\n",
       "    </tr>\n",
       "    <tr>\n",
       "      <th>6</th>\n",
       "      <td>9.910592e-01</td>\n",
       "      <td>0.008941</td>\n",
       "    </tr>\n",
       "    <tr>\n",
       "      <th>7</th>\n",
       "      <td>4.560400e-02</td>\n",
       "      <td>0.954396</td>\n",
       "    </tr>\n",
       "    <tr>\n",
       "      <th>8</th>\n",
       "      <td>3.466231e-02</td>\n",
       "      <td>0.965338</td>\n",
       "    </tr>\n",
       "    <tr>\n",
       "      <th>9</th>\n",
       "      <td>2.793304e-04</td>\n",
       "      <td>0.999721</td>\n",
       "    </tr>\n",
       "  </tbody>\n",
       "</table>\n",
       "</div>"
      ],
      "text/plain": [
       "     geocaching      IWTL\n",
       "0  9.767877e-01  0.023212\n",
       "1  3.293178e-02  0.967068\n",
       "2  9.991014e-01  0.000899\n",
       "3  9.753886e-03  0.990246\n",
       "4  9.979126e-01  0.002087\n",
       "5  2.637035e-07  1.000000\n",
       "6  9.910592e-01  0.008941\n",
       "7  4.560400e-02  0.954396\n",
       "8  3.466231e-02  0.965338\n",
       "9  2.793304e-04  0.999721"
      ]
     },
     "execution_count": 137,
     "metadata": {},
     "output_type": "execute_result"
    }
   ],
   "source": [
    "# This is a table of the probabilities of the testing posts being classified as 'geocaching' or 'IWantToLearn'\n",
    "pd.DataFrame(y_proba, columns=['geocaching','IWTL']).head(10)"
   ]
  },
  {
   "cell_type": "markdown",
   "metadata": {},
   "source": [
    "# Executive Summary\n",
    "---\n"
   ]
  },
  {
   "cell_type": "markdown",
   "metadata": {},
   "source": [
    "Is there a difference in learning and outdoor exploration? You are looking for a way to capture the inquisitive and adventurous spirit.\n",
    "\n",
    "Both involve curiosity and wandering around in odd places, both on the internet and in the real world."
   ]
  }
 ],
 "metadata": {
  "kernelspec": {
   "display_name": "Python 3",
   "language": "python",
   "name": "python3"
  },
  "language_info": {
   "codemirror_mode": {
    "name": "ipython",
    "version": 3
   },
   "file_extension": ".py",
   "mimetype": "text/x-python",
   "name": "python",
   "nbconvert_exporter": "python",
   "pygments_lexer": "ipython3",
   "version": "3.6.5"
  }
 },
 "nbformat": 4,
 "nbformat_minor": 2
}
